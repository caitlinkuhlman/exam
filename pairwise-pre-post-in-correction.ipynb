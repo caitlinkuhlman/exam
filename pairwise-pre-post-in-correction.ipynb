{
 "cells": [
  {
   "cell_type": "code",
   "execution_count": 1,
   "metadata": {
    "collapsed": true
   },
   "outputs": [],
   "source": [
    "import pandas as pd\n",
    "from __future__ import division\n",
    "import numpy as np\n",
    "import matplotlib.pyplot as plt\n",
    "import seaborn as sns\n",
    "import scipy.optimize as optim\n",
    "import time\n",
    "from agg_util import *\n",
    "from fare.metrics import _count_inversions,_merge_parity\n",
    "%matplotlib inline\n",
    "import warnings\n",
    "warnings.filterwarnings('ignore')\n",
    "import pickle"
   ]
  },
  {
   "cell_type": "code",
   "execution_count": 2,
   "metadata": {
    "collapsed": true
   },
   "outputs": [],
   "source": [
    "n_ranks=20\n",
    "rank_len=50"
   ]
  },
  {
   "cell_type": "code",
   "execution_count": 3,
   "metadata": {
    "collapsed": true
   },
   "outputs": [],
   "source": [
    "def loadData(filename):\n",
    "    f = open(filename, 'rb')      \n",
    "    d = pickle.load(f)  \n",
    "    f.close() "
   ]
  },
  {
   "cell_type": "code",
   "execution_count": 4,
   "metadata": {
    "collapsed": true
   },
   "outputs": [],
   "source": [
    "# once data has been processed load faster\n",
    "# data = loadData(\"pre_post_data.pickle\")"
   ]
  },
  {
   "cell_type": "code",
   "execution_count": 5,
   "metadata": {},
   "outputs": [
    {
     "name": "stdout",
     "output_type": "stream",
     "text": [
      "0\n",
      "1\n",
      "2\n",
      "3\n",
      "4\n",
      "5\n",
      "6\n",
      "7\n",
      "8\n",
      "9\n",
      "0\n",
      "1\n",
      "2\n",
      "3\n",
      "4\n",
      "5\n",
      "6\n",
      "7\n",
      "8\n",
      "9\n",
      "0\n",
      "1\n",
      "2\n",
      "3\n",
      "4\n",
      "5\n",
      "6\n",
      "7\n",
      "8\n",
      "9\n"
     ]
    }
   ],
   "source": [
    "# read in data\n",
    "methods = [\"baseline\",\"in_process\",\"post_process\",\"pre_process\"]\n",
    "data = pd.DataFrame(columns = ['theta','p','i','thresh','method','dist','parity'])\n",
    "for theta in [0.3]:\n",
    "#     print(theta)\n",
    "    for p in [0.5, 0.7, 0.9]:\n",
    "#         print(p)\n",
    "        for itr in range(10):\n",
    "            for thresh in [1]: #[612, 24, 1]:\n",
    "                g = pd.read_csv(\"data/agg_base/groups\"+str(p)+\"_\"+str(rank_len)+\"_\"+str(itr)+\".txt\",\n",
    "                                             header=None).as_matrix().ravel()\n",
    "                r = pd.read_csv(\"data/agg_res/output\"+str(rank_len)+\"_\"+str(p)+\"_\"+str(theta)+\"_\"+str(thresh)+\"_\"+str(itr)+\".txt\",\n",
    "                                             dtype=int, usecols=range(rank_len), header=None).as_matrix()\n",
    "                base = pd.read_csv(\"data/agg_base/input\"+str(rank_len)+\"_\"+str(theta)+\"_\"+str(itr)+\".txt\",dtype=int, \n",
    "                               usecols=range(rank_len), header=None).as_matrix()\n",
    "                pre_process = pd.read_csv(\"data/agg_res/preprocess_output\"+str(rank_len)+\"_\"+str(p)+\"_\"+str(theta)+\"_\"+str(thresh)+\"_\"+str(itr)+\".txt\",\n",
    "                              dtype=int, usecols=range(rank_len), header=None).as_matrix()[0]\n",
    "                \n",
    "                baseline=r[0]\n",
    "                in_process=r[1]\n",
    "                post_process = np.array(correct_parity(baseline, g, thresh))\n",
    "                for i,x in enumerate([baseline, in_process, post_process, pre_process]):\n",
    "                    dist = 0\n",
    "                    for b in base:\n",
    "                        dist += kendalltau_dist(b, x)\n",
    "                    dist /= n_ranks\n",
    "                    e0,e1 = rank_parity(x, g)\n",
    "                    parity = abs(e0-e1)\n",
    "#                     parity /= int(rank_len/2)**2\n",
    "                    data = data.append({\n",
    "                        'theta':theta,\n",
    "                        'p':p,\n",
    "                        'i':i,\n",
    "                        'thresh':thresh,\n",
    "                        'method': methods[i],\n",
    "                        'dist': dist,\n",
    "                        'parity': parity}, ignore_index=True\n",
    "                    )\n",
    "            print(itr)"
   ]
  },
  {
   "cell_type": "code",
   "execution_count": 6,
   "metadata": {
    "collapsed": true
   },
   "outputs": [],
   "source": [
    "data['parity'] = data['parity'].astype(int)\n",
    "data.to_pickle(\"pre_post_data.pickle\")"
   ]
  },
  {
   "cell_type": "code",
   "execution_count": 7,
   "metadata": {},
   "outputs": [
    {
     "data": {
      "text/html": [
       "<div>\n",
       "<style scoped>\n",
       "    .dataframe tbody tr th:only-of-type {\n",
       "        vertical-align: middle;\n",
       "    }\n",
       "\n",
       "    .dataframe tbody tr th {\n",
       "        vertical-align: top;\n",
       "    }\n",
       "\n",
       "    .dataframe thead th {\n",
       "        text-align: right;\n",
       "    }\n",
       "</style>\n",
       "<table border=\"1\" class=\"dataframe\">\n",
       "  <thead>\n",
       "    <tr style=\"text-align: right;\">\n",
       "      <th></th>\n",
       "      <th>theta</th>\n",
       "      <th>p</th>\n",
       "      <th>i</th>\n",
       "      <th>thresh</th>\n",
       "      <th>method</th>\n",
       "      <th>dist</th>\n",
       "      <th>parity</th>\n",
       "    </tr>\n",
       "  </thead>\n",
       "  <tbody>\n",
       "    <tr>\n",
       "      <th>0</th>\n",
       "      <td>0.3</td>\n",
       "      <td>0.5</td>\n",
       "      <td>0</td>\n",
       "      <td>1</td>\n",
       "      <td>baseline</td>\n",
       "      <td>122.1</td>\n",
       "      <td>293</td>\n",
       "    </tr>\n",
       "    <tr>\n",
       "      <th>1</th>\n",
       "      <td>0.3</td>\n",
       "      <td>0.5</td>\n",
       "      <td>1</td>\n",
       "      <td>1</td>\n",
       "      <td>in_process</td>\n",
       "      <td>205.0</td>\n",
       "      <td>1</td>\n",
       "    </tr>\n",
       "    <tr>\n",
       "      <th>2</th>\n",
       "      <td>0.3</td>\n",
       "      <td>0.5</td>\n",
       "      <td>2</td>\n",
       "      <td>1</td>\n",
       "      <td>post_process</td>\n",
       "      <td>232.0</td>\n",
       "      <td>1</td>\n",
       "    </tr>\n",
       "    <tr>\n",
       "      <th>3</th>\n",
       "      <td>0.3</td>\n",
       "      <td>0.5</td>\n",
       "      <td>3</td>\n",
       "      <td>1</td>\n",
       "      <td>pre_process</td>\n",
       "      <td>217.9</td>\n",
       "      <td>31</td>\n",
       "    </tr>\n",
       "    <tr>\n",
       "      <th>4</th>\n",
       "      <td>0.3</td>\n",
       "      <td>0.5</td>\n",
       "      <td>0</td>\n",
       "      <td>1</td>\n",
       "      <td>baseline</td>\n",
       "      <td>121.1</td>\n",
       "      <td>381</td>\n",
       "    </tr>\n",
       "  </tbody>\n",
       "</table>\n",
       "</div>"
      ],
      "text/plain": [
       "   theta    p  i thresh        method   dist  parity\n",
       "0    0.3  0.5  0      1      baseline  122.1     293\n",
       "1    0.3  0.5  1      1    in_process  205.0       1\n",
       "2    0.3  0.5  2      1  post_process  232.0       1\n",
       "3    0.3  0.5  3      1   pre_process  217.9      31\n",
       "4    0.3  0.5  0      1      baseline  121.1     381"
      ]
     },
     "execution_count": 7,
     "metadata": {},
     "output_type": "execute_result"
    }
   ],
   "source": [
    "data.head()"
   ]
  },
  {
   "cell_type": "code",
   "execution_count": 8,
   "metadata": {
    "collapsed": true
   },
   "outputs": [],
   "source": [
    "df = data[data['theta']==0.3][['method','p','dist','parity']]\n",
    "df = df.groupby(['method','p']).mean()\n",
    "df.reset_index()\n",
    "# \n",
    "df['parity'] = df['parity'] / int(rank_len/2)**2\n",
    "df\n",
    "df.reset_index(inplace=True)"
   ]
  },
  {
   "cell_type": "code",
   "execution_count": 9,
   "metadata": {},
   "outputs": [
    {
     "data": {
      "image/png": "[encoded data removed]",
      "text/plain": [
       "<Figure size 504x288 with 1 Axes>"
      ]
     },
     "metadata": {},
     "output_type": "display_data"
    }
   ],
   "source": [
    "plt.rcParams.update({'font.size': 14})\n",
    "plt.rcParams[\"figure.figsize\"] = (7,4)\n",
    "cmap = sns.color_palette(\"hls\", 3)\n",
    "ax = sns.scatterplot(data=df, x='parity', y='dist', style='method', hue='p', legend=\"full\", s=140, palette=cmap)\n",
    "ax.set_ylabel(\"Mean Kendall Tau Dist\")\n",
    "ax.set_xlabel(r\"$Rpar(\\rho^*)$\")\n",
    "legend = ax.legend()\n",
    "legend.texts[0].set_text(r\"$p$\")\n",
    "fig = ax.get_figure()\n",
    "# fig.savefig(\"pre_in_post.pdf\", bbox_inches='tight') "
   ]
  },
  {
   "cell_type": "code",
   "execution_count": 10,
   "metadata": {},
   "outputs": [
    {
     "data": {
      "image/png": "[encoded data removed]",
      "text/plain": [
       "<Figure size 576x259.2 with 1 Axes>"
      ]
     },
     "metadata": {},
     "output_type": "display_data"
    }
   ],
   "source": [
    "plt.rcParams[\"figure.figsize\"] = (8,3.6)\n",
    "ax =sns.scatterplot(data=df[df['method'] != 'baseline'], x='parity', y='dist', style='method', \n",
    "                hue='p', legend=\"full\", s=140, palette=cmap)\n",
    "ax.set_ylabel(\"Mean Kendall Tau Dist\")\n",
    "ax.set_xlabel(r\"$Rpar(\\rho^*)$\")\n",
    "legend = ax.legend()\n",
    "legend.texts[0].set_text(r\"$p$\")\n",
    "fig = ax.get_figure()\n",
    "for lh in legend.legendHandles: \n",
    "    lh._sizes = [140] \n",
    "fig.savefig(\"pre_in_post_nob.pdf\", bbox_inches='tight') "
   ]
  },
  {
   "cell_type": "code",
   "execution_count": 11,
   "metadata": {
    "collapsed": true
   },
   "outputs": [],
   "source": [
    "df = data[data['p']==0.7][['method','theta','dist','parity']]\n",
    "df = df.groupby(['method','theta']).mean()\n",
    "df.reset_index(inplace=True)\n"
   ]
  },
  {
   "cell_type": "code",
   "execution_count": null,
   "metadata": {
    "collapsed": true
   },
   "outputs": [],
   "source": []
  }
 ],
 "metadata": {
  "kernelspec": {
   "display_name": "Python 3",
   "language": "python",
   "name": "python3"
  },
  "language_info": {
   "codemirror_mode": {
    "name": "ipython",
    "version": 3
   },
   "file_extension": ".py",
   "mimetype": "text/x-python",
   "name": "python",
   "nbconvert_exporter": "python",
   "pygments_lexer": "ipython3",
   "version": "3.6.3"
  }
 },
 "nbformat": 4,
 "nbformat_minor": 2
}
