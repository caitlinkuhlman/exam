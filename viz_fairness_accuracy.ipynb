{
 "cells": [
  {
   "cell_type": "code",
   "execution_count": 1,
   "metadata": {
    "collapsed": true
   },
   "outputs": [],
   "source": [
    "import matplotlib.pyplot as plt\n",
    "%matplotlib inline\n",
    "import numpy as np\n",
    "from itertools import combinations, permutations\n",
    "from time import time\n",
    "import pandas as pd\n",
    "from numpy.random import random\n",
    "import warnings\n",
    "warnings.filterwarnings('ignore')\n",
    "from scipy.misc import comb\n",
    "from scipy import stats\n",
    "from scipy.spatial import distance\n",
    "from agg_util import *\n",
    "from fare.metrics import *\n",
    "import seaborn as sns\n",
    "# from ir_metrics import *\n",
    "import fairsearchcore as fsc\n",
    "# from yang_metrics import *\n",
    "# from dataGenerator import generateUnfairRanking"
   ]
  },
  {
   "cell_type": "code",
   "execution_count": 2,
   "metadata": {},
   "outputs": [
    {
     "data": {
      "text/html": [
       "\n",
       "    <div class=\"bk-root\">\n",
       "        <a href=\"https://bokeh.org\" target=\"_blank\" class=\"bk-logo bk-logo-small bk-logo-notebook\"></a>\n",
       "        <span id=\"1001\">Loading BokehJS ...</span>\n",
       "    </div>"
      ]
     },
     "metadata": {},
     "output_type": "display_data"
    },
    {
     "data": {
      "application/javascript": [
       "\n",
       "(function(root) {\n",
       "  function now() {\n",
       "    return new Date();\n",
       "  }\n",
       "\n",
       "  var force = true;\n",
       "\n",
       "  if (typeof root._bokeh_onload_callbacks === \"undefined\" || force === true) {\n",
       "    root._bokeh_onload_callbacks = [];\n",
       "    root._bokeh_is_loading = undefined;\n",
       "  }\n",
       "\n",
       "  var JS_MIME_TYPE = 'application/javascript';\n",
       "  var HTML_MIME_TYPE = 'text/html';\n",
       "  var EXEC_MIME_TYPE = 'application/vnd.bokehjs_exec.v0+json';\n",
       "  var CLASS_NAME = 'output_bokeh rendered_html';\n",
       "\n",
       "  /**\n",
       "   * Render data to the DOM node\n",
       "   */\n",
       "  function render(props, node) {\n",
       "    var script = document.createElement(\"script\");\n",
       "    node.appendChild(script);\n",
       "  }\n",
       "\n",
       "  /**\n",
       "   * Handle when an output is cleared or removed\n",
       "   */\n",
       "  function handleClearOutput(event, handle) {\n",
       "    var cell = handle.cell;\n",
       "\n",
       "    var id = cell.output_area._bokeh_element_id;\n",
       "    var server_id = cell.output_area._bokeh_server_id;\n",
       "    // Clean up Bokeh references\n",
       "    if (id != null && id in Bokeh.index) {\n",
       "      Bokeh.index[id].model.document.clear();\n",
       "      delete Bokeh.index[id];\n",
       "    }\n",
       "\n",
       "    if (server_id !== undefined) {\n",
       "      // Clean up Bokeh references\n",
       "      var cmd = \"from bokeh.io.state import curstate; print(curstate().uuid_to_server['\" + server_id + \"'].get_sessions()[0].document.roots[0]._id)\";\n",
       "      cell.notebook.kernel.execute(cmd, {\n",
       "        iopub: {\n",
       "          output: function(msg) {\n",
       "            var id = msg.content.text.trim();\n",
       "            if (id in Bokeh.index) {\n",
       "              Bokeh.index[id].model.document.clear();\n",
       "              delete Bokeh.index[id];\n",
       "            }\n",
       "          }\n",
       "        }\n",
       "      });\n",
       "      // Destroy server and session\n",
       "      var cmd = \"import bokeh.io.notebook as ion; ion.destroy_server('\" + server_id + \"')\";\n",
       "      cell.notebook.kernel.execute(cmd);\n",
       "    }\n",
       "  }\n",
       "\n",
       "  /**\n",
       "   * Handle when a new output is added\n",
       "   */\n",
       "  function handleAddOutput(event, handle) {\n",
       "    var output_area = handle.output_area;\n",
       "    var output = handle.output;\n",
       "\n",
       "    // limit handleAddOutput to display_data with EXEC_MIME_TYPE content only\n",
       "    if ((output.output_type != \"display_data\") || (!output.data.hasOwnProperty(EXEC_MIME_TYPE))) {\n",
       "      return\n",
       "    }\n",
       "\n",
       "    var toinsert = output_area.element.find(\".\" + CLASS_NAME.split(' ')[0]);\n",
       "\n",
       "    if (output.metadata[EXEC_MIME_TYPE][\"id\"] !== undefined) {\n",
       "      toinsert[toinsert.length - 1].firstChild.textContent = output.data[JS_MIME_TYPE];\n",
       "      // store reference to embed id on output_area\n",
       "      output_area._bokeh_element_id = output.metadata[EXEC_MIME_TYPE][\"id\"];\n",
       "    }\n",
       "    if (output.metadata[EXEC_MIME_TYPE][\"server_id\"] !== undefined) {\n",
       "      var bk_div = document.createElement(\"div\");\n",
       "      bk_div.innerHTML = output.data[HTML_MIME_TYPE];\n",
       "      var script_attrs = bk_div.children[0].attributes;\n",
       "      for (var i = 0; i < script_attrs.length; i++) {\n",
       "        toinsert[toinsert.length - 1].firstChild.setAttribute(script_attrs[i].name, script_attrs[i].value);\n",
       "      }\n",
       "      // store reference to server id on output_area\n",
       "      output_area._bokeh_server_id = output.metadata[EXEC_MIME_TYPE][\"server_id\"];\n",
       "    }\n",
       "  }\n",
       "\n",
       "  function register_renderer(events, OutputArea) {\n",
       "\n",
       "    function append_mime(data, metadata, element) {\n",
       "      // create a DOM node to render to\n",
       "      var toinsert = this.create_output_subarea(\n",
       "        metadata,\n",
       "        CLASS_NAME,\n",
       "        EXEC_MIME_TYPE\n",
       "      );\n",
       "      this.keyboard_manager.register_events(toinsert);\n",
       "      // Render to node\n",
       "      var props = {data: data, metadata: metadata[EXEC_MIME_TYPE]};\n",
       "      render(props, toinsert[toinsert.length - 1]);\n",
       "      element.append(toinsert);\n",
       "      return toinsert\n",
       "    }\n",
       "\n",
       "    /* Handle when an output is cleared or removed */\n",
       "    events.on('clear_output.CodeCell', handleClearOutput);\n",
       "    events.on('delete.Cell', handleClearOutput);\n",
       "\n",
       "    /* Handle when a new output is added */\n",
       "    events.on('output_added.OutputArea', handleAddOutput);\n",
       "\n",
       "    /**\n",
       "     * Register the mime type and append_mime function with output_area\n",
       "     */\n",
       "    OutputArea.prototype.register_mime_type(EXEC_MIME_TYPE, append_mime, {\n",
       "      /* Is output safe? */\n",
       "      safe: true,\n",
       "      /* Index of renderer in `output_area.display_order` */\n",
       "      index: 0\n",
       "    });\n",
       "  }\n",
       "\n",
       "  // register the mime type if in Jupyter Notebook environment and previously unregistered\n",
       "  if (root.Jupyter !== undefined) {\n",
       "    var events = require('base/js/events');\n",
       "    var OutputArea = require('notebook/js/outputarea').OutputArea;\n",
       "\n",
       "    if (OutputArea.prototype.mime_types().indexOf(EXEC_MIME_TYPE) == -1) {\n",
       "      register_renderer(events, OutputArea);\n",
       "    }\n",
       "  }\n",
       "\n",
       "  \n",
       "  if (typeof (root._bokeh_timeout) === \"undefined\" || force === true) {\n",
       "    root._bokeh_timeout = Date.now() + 5000;\n",
       "    root._bokeh_failed_load = false;\n",
       "  }\n",
       "\n",
       "  var NB_LOAD_WARNING = {'data': {'text/html':\n",
       "     \"<div style='background-color: #fdd'>\\n\"+\n",
       "     \"<p>\\n\"+\n",
       "     \"BokehJS does not appear to have successfully loaded. If loading BokehJS from CDN, this \\n\"+\n",
       "     \"may be due to a slow or bad network connection. Possible fixes:\\n\"+\n",
       "     \"</p>\\n\"+\n",
       "     \"<ul>\\n\"+\n",
       "     \"<li>re-rerun `output_notebook()` to attempt to load from CDN again, or</li>\\n\"+\n",
       "     \"<li>use INLINE resources instead, as so:</li>\\n\"+\n",
       "     \"</ul>\\n\"+\n",
       "     \"<code>\\n\"+\n",
       "     \"from bokeh.resources import INLINE\\n\"+\n",
       "     \"output_notebook(resources=INLINE)\\n\"+\n",
       "     \"</code>\\n\"+\n",
       "     \"</div>\"}};\n",
       "\n",
       "  function display_loaded() {\n",
       "    var el = document.getElementById(\"1001\");\n",
       "    if (el != null) {\n",
       "      el.textContent = \"BokehJS is loading...\";\n",
       "    }\n",
       "    if (root.Bokeh !== undefined) {\n",
       "      if (el != null) {\n",
       "        el.textContent = \"BokehJS \" + root.Bokeh.version + \" successfully loaded.\";\n",
       "      }\n",
       "    } else if (Date.now() < root._bokeh_timeout) {\n",
       "      setTimeout(display_loaded, 100)\n",
       "    }\n",
       "  }\n",
       "\n",
       "\n",
       "  function run_callbacks() {\n",
       "    try {\n",
       "      root._bokeh_onload_callbacks.forEach(function(callback) {\n",
       "        if (callback != null)\n",
       "          callback();\n",
       "      });\n",
       "    } finally {\n",
       "      delete root._bokeh_onload_callbacks\n",
       "    }\n",
       "    console.debug(\"Bokeh: all callbacks have finished\");\n",
       "  }\n",
       "\n",
       "  function load_libs(css_urls, js_urls, callback) {\n",
       "    if (css_urls == null) css_urls = [];\n",
       "    if (js_urls == null) js_urls = [];\n",
       "\n",
       "    root._bokeh_onload_callbacks.push(callback);\n",
       "    if (root._bokeh_is_loading > 0) {\n",
       "      console.debug(\"Bokeh: BokehJS is being loaded, scheduling callback at\", now());\n",
       "      return null;\n",
       "    }\n",
       "    if (js_urls == null || js_urls.length === 0) {\n",
       "      run_callbacks();\n",
       "      return null;\n",
       "    }\n",
       "    console.debug(\"Bokeh: BokehJS not loaded, scheduling load and callback at\", now());\n",
       "    root._bokeh_is_loading = css_urls.length + js_urls.length;\n",
       "\n",
       "    function on_load() {\n",
       "      root._bokeh_is_loading--;\n",
       "      if (root._bokeh_is_loading === 0) {\n",
       "        console.debug(\"Bokeh: all BokehJS libraries/stylesheets loaded\");\n",
       "        run_callbacks()\n",
       "      }\n",
       "    }\n",
       "\n",
       "    function on_error() {\n",
       "      console.error(\"failed to load \" + url);\n",
       "    }\n",
       "\n",
       "    for (var i = 0; i < css_urls.length; i++) {\n",
       "      var url = css_urls[i];\n",
       "      const element = document.createElement(\"link\");\n",
       "      element.onload = on_load;\n",
       "      element.onerror = on_error;\n",
       "      element.rel = \"stylesheet\";\n",
       "      element.type = \"text/css\";\n",
       "      element.href = url;\n",
       "      console.debug(\"Bokeh: injecting link tag for BokehJS stylesheet: \", url);\n",
       "      document.body.appendChild(element);\n",
       "    }\n",
       "\n",
       "    for (var i = 0; i < js_urls.length; i++) {\n",
       "      var url = js_urls[i];\n",
       "      var element = document.createElement('script');\n",
       "      element.onload = on_load;\n",
       "      element.onerror = on_error;\n",
       "      element.async = false;\n",
       "      element.src = url;\n",
       "      console.debug(\"Bokeh: injecting script tag for BokehJS library: \", url);\n",
       "      document.head.appendChild(element);\n",
       "    }\n",
       "  };var element = document.getElementById(\"1001\");\n",
       "  if (element == null) {\n",
       "    console.error(\"Bokeh: ERROR: autoload.js configured with elementid '1001' but no matching script tag was found. \")\n",
       "    return false;\n",
       "  }\n",
       "\n",
       "  function inject_raw_css(css) {\n",
       "    const element = document.createElement(\"style\");\n",
       "    element.appendChild(document.createTextNode(css));\n",
       "    document.body.appendChild(element);\n",
       "  }\n",
       "\n",
       "  \n",
       "  var js_urls = [\"https://cdn.pydata.org/bokeh/release/bokeh-1.4.0.min.js\", \"https://cdn.pydata.org/bokeh/release/bokeh-widgets-1.4.0.min.js\", \"https://cdn.pydata.org/bokeh/release/bokeh-tables-1.4.0.min.js\", \"https://cdn.pydata.org/bokeh/release/bokeh-gl-1.4.0.min.js\"];\n",
       "  var css_urls = [];\n",
       "  \n",
       "\n",
       "  var inline_js = [\n",
       "    function(Bokeh) {\n",
       "      Bokeh.set_log_level(\"info\");\n",
       "    },\n",
       "    function(Bokeh) {\n",
       "    \n",
       "    \n",
       "    }\n",
       "  ];\n",
       "\n",
       "  function run_inline_js() {\n",
       "    \n",
       "    if (root.Bokeh !== undefined || force === true) {\n",
       "      \n",
       "    for (var i = 0; i < inline_js.length; i++) {\n",
       "      inline_js[i].call(root, root.Bokeh);\n",
       "    }\n",
       "    if (force === true) {\n",
       "        display_loaded();\n",
       "      }} else if (Date.now() < root._bokeh_timeout) {\n",
       "      setTimeout(run_inline_js, 100);\n",
       "    } else if (!root._bokeh_failed_load) {\n",
       "      console.log(\"Bokeh: BokehJS failed to load within specified timeout.\");\n",
       "      root._bokeh_failed_load = true;\n",
       "    } else if (force !== true) {\n",
       "      var cell = $(document.getElementById(\"1001\")).parents('.cell').data().cell;\n",
       "      cell.output_area.append_execute_result(NB_LOAD_WARNING)\n",
       "    }\n",
       "\n",
       "  }\n",
       "\n",
       "  if (root._bokeh_is_loading === 0) {\n",
       "    console.debug(\"Bokeh: BokehJS loaded, going straight to plotting\");\n",
       "    run_inline_js();\n",
       "  } else {\n",
       "    load_libs(css_urls, js_urls, function() {\n",
       "      console.debug(\"Bokeh: BokehJS plotting callback run at\", now());\n",
       "      run_inline_js();\n",
       "    });\n",
       "  }\n",
       "}(window));"
      ],
      "application/vnd.bokehjs_load.v0+json": "\n(function(root) {\n  function now() {\n    return new Date();\n  }\n\n  var force = true;\n\n  if (typeof root._bokeh_onload_callbacks === \"undefined\" || force === true) {\n    root._bokeh_onload_callbacks = [];\n    root._bokeh_is_loading = undefined;\n  }\n\n  \n\n  \n  if (typeof (root._bokeh_timeout) === \"undefined\" || force === true) {\n    root._bokeh_timeout = Date.now() + 5000;\n    root._bokeh_failed_load = false;\n  }\n\n  var NB_LOAD_WARNING = {'data': {'text/html':\n     \"<div style='background-color: #fdd'>\\n\"+\n     \"<p>\\n\"+\n     \"BokehJS does not appear to have successfully loaded. If loading BokehJS from CDN, this \\n\"+\n     \"may be due to a slow or bad network connection. Possible fixes:\\n\"+\n     \"</p>\\n\"+\n     \"<ul>\\n\"+\n     \"<li>re-rerun `output_notebook()` to attempt to load from CDN again, or</li>\\n\"+\n     \"<li>use INLINE resources instead, as so:</li>\\n\"+\n     \"</ul>\\n\"+\n     \"<code>\\n\"+\n     \"from bokeh.resources import INLINE\\n\"+\n     \"output_notebook(resources=INLINE)\\n\"+\n     \"</code>\\n\"+\n     \"</div>\"}};\n\n  function display_loaded() {\n    var el = document.getElementById(\"1001\");\n    if (el != null) {\n      el.textContent = \"BokehJS is loading...\";\n    }\n    if (root.Bokeh !== undefined) {\n      if (el != null) {\n        el.textContent = \"BokehJS \" + root.Bokeh.version + \" successfully loaded.\";\n      }\n    } else if (Date.now() < root._bokeh_timeout) {\n      setTimeout(display_loaded, 100)\n    }\n  }\n\n\n  function run_callbacks() {\n    try {\n      root._bokeh_onload_callbacks.forEach(function(callback) {\n        if (callback != null)\n          callback();\n      });\n    } finally {\n      delete root._bokeh_onload_callbacks\n    }\n    console.debug(\"Bokeh: all callbacks have finished\");\n  }\n\n  function load_libs(css_urls, js_urls, callback) {\n    if (css_urls == null) css_urls = [];\n    if (js_urls == null) js_urls = [];\n\n    root._bokeh_onload_callbacks.push(callback);\n    if (root._bokeh_is_loading > 0) {\n      console.debug(\"Bokeh: BokehJS is being loaded, scheduling callback at\", now());\n      return null;\n    }\n    if (js_urls == null || js_urls.length === 0) {\n      run_callbacks();\n      return null;\n    }\n    console.debug(\"Bokeh: BokehJS not loaded, scheduling load and callback at\", now());\n    root._bokeh_is_loading = css_urls.length + js_urls.length;\n\n    function on_load() {\n      root._bokeh_is_loading--;\n      if (root._bokeh_is_loading === 0) {\n        console.debug(\"Bokeh: all BokehJS libraries/stylesheets loaded\");\n        run_callbacks()\n      }\n    }\n\n    function on_error() {\n      console.error(\"failed to load \" + url);\n    }\n\n    for (var i = 0; i < css_urls.length; i++) {\n      var url = css_urls[i];\n      const element = document.createElement(\"link\");\n      element.onload = on_load;\n      element.onerror = on_error;\n      element.rel = \"stylesheet\";\n      element.type = \"text/css\";\n      element.href = url;\n      console.debug(\"Bokeh: injecting link tag for BokehJS stylesheet: \", url);\n      document.body.appendChild(element);\n    }\n\n    for (var i = 0; i < js_urls.length; i++) {\n      var url = js_urls[i];\n      var element = document.createElement('script');\n      element.onload = on_load;\n      element.onerror = on_error;\n      element.async = false;\n      element.src = url;\n      console.debug(\"Bokeh: injecting script tag for BokehJS library: \", url);\n      document.head.appendChild(element);\n    }\n  };var element = document.getElementById(\"1001\");\n  if (element == null) {\n    console.error(\"Bokeh: ERROR: autoload.js configured with elementid '1001' but no matching script tag was found. \")\n    return false;\n  }\n\n  function inject_raw_css(css) {\n    const element = document.createElement(\"style\");\n    element.appendChild(document.createTextNode(css));\n    document.body.appendChild(element);\n  }\n\n  \n  var js_urls = [\"https://cdn.pydata.org/bokeh/release/bokeh-1.4.0.min.js\", \"https://cdn.pydata.org/bokeh/release/bokeh-widgets-1.4.0.min.js\", \"https://cdn.pydata.org/bokeh/release/bokeh-tables-1.4.0.min.js\", \"https://cdn.pydata.org/bokeh/release/bokeh-gl-1.4.0.min.js\"];\n  var css_urls = [];\n  \n\n  var inline_js = [\n    function(Bokeh) {\n      Bokeh.set_log_level(\"info\");\n    },\n    function(Bokeh) {\n    \n    \n    }\n  ];\n\n  function run_inline_js() {\n    \n    if (root.Bokeh !== undefined || force === true) {\n      \n    for (var i = 0; i < inline_js.length; i++) {\n      inline_js[i].call(root, root.Bokeh);\n    }\n    if (force === true) {\n        display_loaded();\n      }} else if (Date.now() < root._bokeh_timeout) {\n      setTimeout(run_inline_js, 100);\n    } else if (!root._bokeh_failed_load) {\n      console.log(\"Bokeh: BokehJS failed to load within specified timeout.\");\n      root._bokeh_failed_load = true;\n    } else if (force !== true) {\n      var cell = $(document.getElementById(\"1001\")).parents('.cell').data().cell;\n      cell.output_area.append_execute_result(NB_LOAD_WARNING)\n    }\n\n  }\n\n  if (root._bokeh_is_loading === 0) {\n    console.debug(\"Bokeh: BokehJS loaded, going straight to plotting\");\n    run_inline_js();\n  } else {\n    load_libs(css_urls, js_urls, function() {\n      console.debug(\"Bokeh: BokehJS plotting callback run at\", now());\n      run_inline_js();\n    });\n  }\n}(window));"
     },
     "metadata": {},
     "output_type": "display_data"
    }
   ],
   "source": [
    "from bokeh.io import output_notebook, show\n",
    "from bokeh.layouts import row, column, widgetbox, gridplot\n",
    "from bokeh.models import CustomJS, Slider, Span, Label, LinearColorMapper, ColumnDataSource, CategoricalColorMapper, RangeTool, Range1d, LabelSet\n",
    "from bokeh.plotting import figure, output_file, show, reset_output\n",
    "from bokeh.transform import linear_cmap, cumsum\n",
    "from bokeh.palettes import brewer\n",
    "from bokeh.colors import RGB\n",
    "from matplotlib import cm\n",
    "\n",
    "output_notebook()"
   ]
  },
  {
   "cell_type": "code",
   "execution_count": 3,
   "metadata": {
    "collapsed": true
   },
   "outputs": [],
   "source": [
    "# read in some mallows data\n",
    "r_data = pd.read_csv(\"data/R_n50_N10_t0.1.txt\").as_matrix()"
   ]
  },
  {
   "cell_type": "code",
   "execution_count": 4,
   "metadata": {
    "collapsed": true
   },
   "outputs": [],
   "source": [
    "pink_group = '#8E0152'\n",
    "green_group = '#85C049'"
   ]
  },
  {
   "cell_type": "code",
   "execution_count": 5,
   "metadata": {
    "collapsed": true
   },
   "outputs": [],
   "source": [
    "# p = 0.5 -> random, fair\n",
    "# p large -> unfairly favors g1\n",
    "# minority group is 0\n",
    "def gen_minority_group_idx(n, p, ratio):\n",
    "    len1 = int(n*ratio)\n",
    "    len0 = n - len1\n",
    "    groups = []\n",
    "    n=0 #count the items in the minority group\n",
    "    i=0\n",
    "    while len1 > 0 and len0 >0:\n",
    "        if random() < p: \n",
    "            groups.append(1)\n",
    "            len1 -= 1\n",
    "        else:\n",
    "            groups.append(0)\n",
    "            len0 -= 1\n",
    "            n += 1\n",
    "        i += 1\n",
    "    while len1 > 0:\n",
    "        groups.append(1)\n",
    "        len1 -= 1\n",
    "        i += 1\n",
    "    while len0 >0:\n",
    "        groups.append(0)\n",
    "        len0 -= 1\n",
    "        n += 1\n",
    "        i+=1\n",
    "    return np.array(groups, dtype = int),n"
   ]
  },
  {
   "cell_type": "code",
   "execution_count": 6,
   "metadata": {},
   "outputs": [
    {
     "data": {
      "text/plain": [
       "(100, 50)"
      ]
     },
     "execution_count": 6,
     "metadata": {},
     "output_type": "execute_result"
    }
   ],
   "source": [
    "# generate some random rankings\n",
    "# random rankings\n",
    "n_ranks =100\n",
    "rank_len = 50\n",
    "\n",
    "# make copy in format for fa_ir\n",
    "ranks = []\n",
    "for i in range(n_ranks):\n",
    "    r = np.array(range(rank_len))\n",
    "    np.random.shuffle(r)\n",
    "    ranks.append(r)\n",
    "    \n",
    "np.shape(ranks)"
   ]
  },
  {
   "cell_type": "code",
   "execution_count": 7,
   "metadata": {
    "collapsed": true
   },
   "outputs": [],
   "source": [
    "# generate some random scores for identity ranking\n",
    "# random rankings\n",
    "n_ranks =100\n",
    "rank_len = 50\n",
    "\n",
    "s = np.random.uniform(0.0, 1.0, rank_len)\n",
    "r = np.argsort(s)\n",
    "scores = np.flip(s[r])"
   ]
  },
  {
   "cell_type": "code",
   "execution_count": 8,
   "metadata": {
    "collapsed": true
   },
   "outputs": [],
   "source": [
    "dists = []\n",
    "for r in ranks:\n",
    "    dists.append(np.sum([kendalltau_dist(r, x) for x in r_data]))"
   ]
  },
  {
   "cell_type": "code",
   "execution_count": 9,
   "metadata": {
    "collapsed": true
   },
   "outputs": [],
   "source": [
    "def scale(vals):\n",
    "    maxd = np.max(vals)\n",
    "    mind = np.min(vals)\n",
    "    return [(x - mind) / (maxd-mind) for x in vals]"
   ]
  },
  {
   "cell_type": "code",
   "execution_count": 10,
   "metadata": {
    "collapsed": true
   },
   "outputs": [],
   "source": [
    "dists = scale(dists)"
   ]
  },
  {
   "cell_type": "code",
   "execution_count": 12,
   "metadata": {
    "collapsed": true
   },
   "outputs": [],
   "source": [
    "groups, m = gen_minority_group_idx(50, 0.7, 0.7)"
   ]
  },
  {
   "cell_type": "code",
   "execution_count": 13,
   "metadata": {},
   "outputs": [],
   "source": [
    "pars = []\n",
    "for r in ranks:\n",
    "    g = [groups[x] for x in np.argsort(r)]\n",
    "    e0,e1 = rank_parity(r, g)\n",
    "    pars.append(abs(e0 -e1))"
   ]
  },
  {
   "cell_type": "code",
   "execution_count": 14,
   "metadata": {
    "collapsed": true
   },
   "outputs": [],
   "source": [
    "sliding_parity0 = []\n",
    "sliding_parity1 = []\n",
    "window = 10\n",
    "for rank in ranks:\n",
    "    e0s = []\n",
    "    e1s = []\n",
    "    for i in range(0,rank_len-window):\n",
    "        r = rank[i:i+10]\n",
    "        g = [groups[x] for x in np.argsort(r)]\n",
    "        e0,e1 = rank_parity(r, g)\n",
    "        e0s.append(e0)\n",
    "        e1s.append(e1)\n",
    "    for i in range(window):        \n",
    "        e0s.append(0)\n",
    "        e1s.append(0)\n",
    "#     add buffer for last window to keep length same for columndatastore\n",
    "    sliding_parity0.append(e0s)\n",
    "    sliding_parity1.append(e1s)\n",
    "    \n"
   ]
  },
  {
   "cell_type": "code",
   "execution_count": 78,
   "metadata": {
    "scrolled": false
   },
   "outputs": [
    {
     "data": {
      "text/html": [
       "\n",
       "\n",
       "\n",
       "\n",
       "\n",
       "\n",
       "  <div class=\"bk-root\" id=\"4021701e-d283-464d-b797-f38ed7ec74d9\" data-root-id=\"10079\"></div>\n"
      ]
     },
     "metadata": {},
     "output_type": "display_data"
    },
    {
     "data": {
      "application/javascript": [
       "(function(root) {\n",
       "  function embed_document(root) {\n",
       "    \n",
       "  var docs_json = {\"72762a01-f064-42d7-9fe8-db898fc1dcc4\":{\"roots\":{\"references\":[{\"attributes\":{\"children\":[{\"id\":\"10034\",\"subtype\":\"Figure\",\"type\":\"Plot\"},{\"id\":\"10078\",\"type\":\"WidgetBox\"}]},\"id\":\"10079\",\"type\":\"Row\"},{\"attributes\":{\"args\":{\"a_slider\":{\"id\":\"10068\",\"type\":\"Slider\"},\"f_slider\":{\"id\":\"10067\",\"type\":\"Slider\"},\"source\":{\"id\":\"10033\",\"type\":\"ColumnDataSource\"},\"span\":{\"id\":\"10070\",\"type\":\"Span\"}},\"code\":\"\\n    span.location = a_slider.value;\\n    for(var i=0 ; i < source.data['colors'].length ; i++) {\\n        if(source.data['pars'][i] < f_slider.value && source.data['dists'][i] < a_slider.value) {\\n            source.data['colors'][i] = 'on';\\n        }\\n        else{\\n            source.data['colors'][i] = 'off';\\n        }\\n    }\\n    source.change.emit()\\n\"},\"id\":\"10077\",\"type\":\"CustomJS\"},{\"attributes\":{},\"id\":\"10054\",\"type\":\"WheelZoomTool\"},{\"attributes\":{\"fill_alpha\":{\"value\":0.7},\"fill_color\":{\"field\":\"colors\",\"transform\":{\"id\":\"10066\",\"type\":\"CategoricalColorMapper\"}},\"line_alpha\":{\"value\":0.7},\"line_color\":{\"value\":null},\"radius\":{\"units\":\"data\",\"value\":0.01},\"x\":{\"field\":\"dists\"},\"y\":{\"field\":\"pars\"}},\"id\":\"10072\",\"type\":\"Circle\"},{\"attributes\":{\"dimension\":1,\"ticker\":{\"id\":\"10049\",\"type\":\"BasicTicker\"}},\"id\":\"10052\",\"type\":\"Grid\"},{\"attributes\":{\"fill_alpha\":{\"value\":0.1},\"fill_color\":{\"value\":\"#1f77b4\"},\"line_alpha\":{\"value\":0.1},\"line_color\":{\"value\":\"#1f77b4\"},\"radius\":{\"units\":\"data\",\"value\":0.01},\"x\":{\"field\":\"dists\"},\"y\":{\"field\":\"pars\"}},\"id\":\"10073\",\"type\":\"Circle\"},{\"attributes\":{\"callback\":{\"id\":\"10077\",\"type\":\"CustomJS\"},\"end\":1,\"start\":0,\"step\":0.01,\"title\":\"Aggregation Accuracy\",\"value\":1.0},\"id\":\"10068\",\"type\":\"Slider\"},{\"attributes\":{},\"id\":\"10057\",\"type\":\"ResetTool\"},{\"attributes\":{\"data_source\":{\"id\":\"10033\",\"type\":\"ColumnDataSource\"},\"glyph\":{\"id\":\"10072\",\"type\":\"Circle\"},\"hover_glyph\":null,\"muted_glyph\":null,\"nonselection_glyph\":{\"id\":\"10073\",\"type\":\"Circle\"},\"selection_glyph\":null,\"view\":{\"id\":\"10075\",\"type\":\"CDSView\"}},\"id\":\"10074\",\"type\":\"GlyphRenderer\"},{\"attributes\":{\"overlay\":{\"id\":\"10434\",\"type\":\"BoxAnnotation\"}},\"id\":\"10055\",\"type\":\"BoxZoomTool\"},{\"attributes\":{},\"id\":\"10056\",\"type\":\"SaveTool\"},{\"attributes\":{\"source\":{\"id\":\"10033\",\"type\":\"ColumnDataSource\"}},\"id\":\"10075\",\"type\":\"CDSView\"},{\"attributes\":{\"text\":\"\"},\"id\":\"10429\",\"type\":\"Title\"},{\"attributes\":{\"below\":[{\"id\":\"10043\",\"type\":\"LinearAxis\"}],\"center\":[{\"id\":\"10047\",\"type\":\"Grid\"},{\"id\":\"10052\",\"type\":\"Grid\"},{\"id\":\"10069\",\"type\":\"Span\"},{\"id\":\"10070\",\"type\":\"Span\"}],\"left\":[{\"id\":\"10048\",\"type\":\"LinearAxis\"}],\"plot_height\":400,\"renderers\":[{\"id\":\"10074\",\"type\":\"GlyphRenderer\"}],\"title\":{\"id\":\"10429\",\"type\":\"Title\"},\"toolbar\":{\"id\":\"10059\",\"type\":\"Toolbar\"},\"x_range\":{\"id\":\"10035\",\"type\":\"DataRange1d\"},\"x_scale\":{\"id\":\"10039\",\"type\":\"LinearScale\"},\"y_range\":{\"id\":\"10037\",\"type\":\"DataRange1d\"},\"y_scale\":{\"id\":\"10041\",\"type\":\"LinearScale\"}},\"id\":\"10034\",\"subtype\":\"Figure\",\"type\":\"Plot\"},{\"attributes\":{\"args\":{\"a_slider\":{\"id\":\"10068\",\"type\":\"Slider\"},\"f_slider\":{\"id\":\"10067\",\"type\":\"Slider\"},\"source\":{\"id\":\"10033\",\"type\":\"ColumnDataSource\"},\"span\":{\"id\":\"10069\",\"type\":\"Span\"}},\"code\":\"\\n    span.location = f_slider.value;\\n    for(var i=0 ; i < source.data['colors'].length ; i++) {\\n        if(source.data['pars'][i] < f_slider.value && source.data['dists'][i] < a_slider.value) {\\n            source.data['colors'][i] = 'on';\\n        }\\n        else{\\n            source.data['colors'][i] = 'off';\\n        }\\n    }\\n    source.change.emit()\\n\"},\"id\":\"10076\",\"type\":\"CustomJS\"},{\"attributes\":{\"children\":[{\"id\":\"10067\",\"type\":\"Slider\"},{\"id\":\"10068\",\"type\":\"Slider\"}]},\"id\":\"10078\",\"type\":\"WidgetBox\"},{\"attributes\":{\"active_drag\":\"auto\",\"active_inspect\":\"auto\",\"active_multi\":null,\"active_scroll\":\"auto\",\"active_tap\":\"auto\",\"tools\":[{\"id\":\"10053\",\"type\":\"PanTool\"},{\"id\":\"10054\",\"type\":\"WheelZoomTool\"},{\"id\":\"10055\",\"type\":\"BoxZoomTool\"},{\"id\":\"10056\",\"type\":\"SaveTool\"},{\"id\":\"10057\",\"type\":\"ResetTool\"},{\"id\":\"10058\",\"type\":\"HelpTool\"}]},\"id\":\"10059\",\"type\":\"Toolbar\"},{\"attributes\":{\"callback\":null},\"id\":\"10035\",\"type\":\"DataRange1d\"},{\"attributes\":{},\"id\":\"10430\",\"type\":\"BasicTickFormatter\"},{\"attributes\":{},\"id\":\"10041\",\"type\":\"LinearScale\"},{\"attributes\":{\"factors\":[\"on\",\"off\"],\"palette\":[\"#8E0152\",\"grey\"]},\"id\":\"10066\",\"type\":\"CategoricalColorMapper\"},{\"attributes\":{\"location\":0.42476190476190473},\"id\":\"10069\",\"type\":\"Span\"},{\"attributes\":{},\"id\":\"10432\",\"type\":\"BasicTickFormatter\"},{\"attributes\":{},\"id\":\"10049\",\"type\":\"BasicTicker\"},{\"attributes\":{\"callback\":{\"id\":\"10076\",\"type\":\"CustomJS\"},\"end\":0.5,\"start\":0,\"step\":0.01,\"title\":\"Rank Parity\",\"value\":0.42476190476190473},\"id\":\"10067\",\"type\":\"Slider\"},{\"attributes\":{\"bottom_units\":\"screen\",\"fill_alpha\":{\"value\":0.5},\"fill_color\":{\"value\":\"lightgrey\"},\"left_units\":\"screen\",\"level\":\"overlay\",\"line_alpha\":{\"value\":1.0},\"line_color\":{\"value\":\"black\"},\"line_dash\":[4,4],\"line_width\":{\"value\":2},\"render_mode\":\"css\",\"right_units\":\"screen\",\"top_units\":\"screen\"},\"id\":\"10434\",\"type\":\"BoxAnnotation\"},{\"attributes\":{},\"id\":\"10039\",\"type\":\"LinearScale\"},{\"attributes\":{\"callback\":null,\"data\":{\"colors\":[\"on\",\"on\",\"on\",\"on\",\"on\",\"on\",\"on\",\"on\",\"on\",\"on\",\"on\",\"on\",\"on\",\"on\",\"on\",\"on\",\"on\",\"on\",\"on\",\"on\",\"on\",\"on\",\"on\",\"on\",\"on\",\"on\",\"on\",\"on\",\"on\",\"on\",\"on\",\"on\",\"on\",\"on\",\"on\",\"on\",\"on\",\"on\",\"on\",\"on\",\"on\",\"on\",\"on\",\"on\",\"on\",\"on\",\"on\",\"on\",\"on\",\"on\",\"on\",\"on\",\"on\",\"on\",\"on\",\"on\",\"on\",\"on\",\"on\",\"on\",\"on\",\"on\",\"on\",\"on\",\"on\",\"on\",\"on\",\"on\",\"on\",\"on\",\"on\",\"on\",\"on\",\"on\",\"on\",\"on\",\"on\",\"on\",\"on\",\"on\",\"on\",\"on\",\"on\",\"on\",\"on\",\"on\",\"on\",\"on\",\"on\",\"on\",\"on\",\"on\",\"on\",\"on\",\"on\",\"on\",\"on\",\"on\",\"on\",\"on\"],\"dists\":[0.556717198118139,0.7260846837428123,0.8384736016727653,0.30214323052796654,0.5013068478829065,0.6246732880292734,0.6664924202822792,0.24046001045478307,0.43596445373758497,0.6429691583899634,0.5258755880815473,0.7412441191845269,0.7449032932566649,0.4610559330893884,0.40407736539466804,0.9048614741244119,0.6868792472556194,0.6346053319393623,0.3183481442760063,0.755880815473079,0.4537375849451124,0.5399895452169368,0.6623105070569786,0.5771040250914794,0.9174072138003136,0.7584945112388918,0.6999477260846837,0.6168322007318349,0.5917407213800313,0.5875588081547308,0.766858337689493,0.6382645060115003,0.6999477260846837,0.5744903293256665,0.5802404600104548,0.3899634082592786,0.6832200731834814,0.1860951385258756,0.30893883951907997,0.2780972294824882,0.8421327757449033,0.5880815473078934,0.7124934657605855,0.5232618923157345,0.7208572922111867,0.7360167276529012,0.5588081547307894,0.5436487192890748,0.5394668060637742,0.3810768426555149,0.647151071615264,0.4030318870883429,0.8541557762676425,0.5875588081547308,0.3282801881860951,0.3810768426555149,0.3010977522216414,0.6905384213277574,0.13852587558808155,0.4892838473601673,0.37114479874542605,0.4997386304234187,0.8755880815473079,0.10507056978567694,0.42655514898065866,0.786199686356508,0.5765812859383168,0.40564558285415575,0.553058024046001,0.6659696811291166,0.3413486670151594,0.523784631468897,0.349189754312598,0.5263983272347099,0.3732357553580763,0.1688447464715107,0.8175640355462624,0.5504443282801882,0.4464192368008364,0.7234709879769995,0.8112911657083115,0.6267642446419237,0.6220595922634605,0.15368531102979613,0.683742812336644,0.45060115002613693,1.0,0.7673810768426556,0.5358076319916362,0.7266074228959749,0.893883951907998,0.3408259278619969,0.6534239414532148,0.6921066387872452,0.7323575535807632,0.0,0.559330893883952,0.7229482488238369,0.5718766335598536,0.5321484579194982],\"pars\":[0.2076190476190476,0.3333333333333333,0.059047619047619015,0.03619047619047616,0.3752380952380952,0.0019047619047618536,0.2076190476190476,0.1657142857142857,0.21523809523809523,0.2419047619047619,0.013333333333333364,0.05142857142857138,0.024761904761904763,0.12000000000000005,0.10857142857142854,0.34857142857142853,0.17333333333333334,0.3866666666666667,0.42476190476190473,0.2304761904761905,0.1961904761904762,0.09333333333333332,0.11238095238095241,0.0971428571428572,0.017142857142857126,0.21523809523809523,0.08571428571428569,0.07809523809523805,0.07809523809523805,0.18095238095238098,0.013333333333333364,0.260952380952381,0.024761904761904763,0.31809523809523804,0.06285714285714289,0.19238095238095237,0.1885714285714286,0.03619047619047616,0.05142857142857138,0.28761904761904766,0.22666666666666663,0.12761904761904758,0.25333333333333335,0.0438095238095238,0.20380952380952383,0.15047619047619043,0.2914285714285714,0.3028571428571429,0.12380952380952381,0.005714285714285727,0.22285714285714286,0.2076190476190476,0.15809523809523807,0.23809523809523814,0.06285714285714289,0.0438095238095238,0.0438095238095238,0.2076190476190476,0.05142857142857138,0.1657142857142857,0.2304761904761905,0.059047619047619015,0.09333333333333332,0.059047619047619015,0.10857142857142854,0.25333333333333335,0.19238095238095237,0.14666666666666667,0.42095238095238097,0.1657142857142857,0.1352380952380952,0.0438095238095238,0.1961904761904762,0.15047619047619043,0.05142857142857138,0.07047619047619053,0.35619047619047617,0.04761904761904767,0.2914285714285714,0.37142857142857144,0.05523809523809525,0.0019047619047618536,0.05523809523809525,0.06666666666666665,0.028571428571428525,0.17333333333333334,0.3942857142857143,0.23428571428571426,0.34857142857142853,0.024761904761904763,0.14666666666666667,0.12761904761904758,0.00952380952380949,0.15047619047619043,0.22285714285714286,0.040000000000000036,0.1885714285714286,0.0323809523809524,0.14285714285714285,0.0438095238095238]},\"selected\":{\"id\":\"10436\",\"type\":\"Selection\"},\"selection_policy\":{\"id\":\"10435\",\"type\":\"UnionRenderers\"}},\"id\":\"10033\",\"type\":\"ColumnDataSource\"},{\"attributes\":{},\"id\":\"10435\",\"type\":\"UnionRenderers\"},{\"attributes\":{\"axis_label\":\"Rank Parity\",\"formatter\":{\"id\":\"10432\",\"type\":\"BasicTickFormatter\"},\"ticker\":{\"id\":\"10049\",\"type\":\"BasicTicker\"}},\"id\":\"10048\",\"type\":\"LinearAxis\"},{\"attributes\":{},\"id\":\"10053\",\"type\":\"PanTool\"},{\"attributes\":{},\"id\":\"10436\",\"type\":\"Selection\"},{\"attributes\":{\"axis_label\":\"Aggregation Accuracy\",\"formatter\":{\"id\":\"10430\",\"type\":\"BasicTickFormatter\"},\"ticker\":{\"id\":\"10044\",\"type\":\"BasicTicker\"}},\"id\":\"10043\",\"type\":\"LinearAxis\"},{\"attributes\":{\"ticker\":{\"id\":\"10044\",\"type\":\"BasicTicker\"}},\"id\":\"10047\",\"type\":\"Grid\"},{\"attributes\":{\"dimension\":\"height\",\"location\":1.0},\"id\":\"10070\",\"type\":\"Span\"},{\"attributes\":{\"callback\":null},\"id\":\"10037\",\"type\":\"DataRange1d\"},{\"attributes\":{},\"id\":\"10044\",\"type\":\"BasicTicker\"},{\"attributes\":{},\"id\":\"10058\",\"type\":\"HelpTool\"}],\"root_ids\":[\"10079\"]},\"title\":\"Bokeh Application\",\"version\":\"1.4.0\"}};\n",
       "  var render_items = [{\"docid\":\"72762a01-f064-42d7-9fe8-db898fc1dcc4\",\"roots\":{\"10079\":\"4021701e-d283-464d-b797-f38ed7ec74d9\"}}];\n",
       "  root.Bokeh.embed.embed_items_notebook(docs_json, render_items);\n",
       "\n",
       "  }\n",
       "  if (root.Bokeh !== undefined) {\n",
       "    embed_document(root);\n",
       "  } else {\n",
       "    var attempts = 0;\n",
       "    var timer = setInterval(function(root) {\n",
       "      if (root.Bokeh !== undefined) {\n",
       "        clearInterval(timer);\n",
       "        embed_document(root);\n",
       "      } else {\n",
       "        attempts++;\n",
       "        if (attempts > 100) {\n",
       "          clearInterval(timer);\n",
       "          console.log(\"Bokeh: ERROR: Unable to run BokehJS code because BokehJS library is missing\");\n",
       "        }\n",
       "      }\n",
       "    }, 10, root)\n",
       "  }\n",
       "})(window);"
      ],
      "application/vnd.bokehjs_exec.v0+json": ""
     },
     "metadata": {
      "application/vnd.bokehjs_exec.v0+json": {
       "id": "10079"
      }
     },
     "output_type": "display_data"
    }
   ],
   "source": [
    "colors = np.repeat('on', len(pars))\n",
    "source = ColumnDataSource({'dists': dists, 'pars': pars,'colors':colors})\n",
    "plot = figure(plot_width=600, plot_height=400)\n",
    "plot.yaxis.axis_label = \"Rank Parity\"\n",
    "plot.xaxis.axis_label = \"Aggregation Accuracy\"\n",
    "\n",
    "cmap_cat = CategoricalColorMapper(factors=['on', 'off'], palette=[pink_group,'grey']) \n",
    "# cmap_pars = LinearColorMapper(palette=['red'], low=np.min(pars), high=np.max(pars), high_color='grey')\n",
    "# cmap_dists = LinearColorMapper(palette=['red'], low=np.min(dists), high=np.max(dists), high_color='grey')\n",
    "\n",
    "fair_slider = Slider(start=0, end=0.5, value=np.max(pars), step=.01, title=\"Rank Parity\")\n",
    "acc_slider = Slider(start=0, end=1, value=np.max(dists), step=.01, title=\"Aggregation Accuracy\")\n",
    "fair_span = Span(location=fair_slider.value, dimension='width')\n",
    "acc_span = Span(location=acc_slider.value, dimension='height')\n",
    "plot.add_layout(fair_span)\n",
    "plot.add_layout(acc_span)\n",
    "\n",
    "s = plot.scatter('dists', 'pars', source=source, line_color=None, radius=0.01, alpha=0.7, \n",
    "             fill_color={\"field\":'colors', \"transform\":cmap_cat})\n",
    "\n",
    "n = len(source.data['colors'])\n",
    "\n",
    "fair_slider.callback = CustomJS(args=dict(span=fair_span, f_slider=fair_slider, a_slider=acc_slider, \n",
    "                                          source=s.data_source), code=\"\"\"\n",
    "    span.location = f_slider.value;\n",
    "    for(var i=0 ; i < source.data['colors'].length ; i++) {\n",
    "        if(source.data['pars'][i] < f_slider.value && source.data['dists'][i] < a_slider.value) {\n",
    "            source.data['colors'][i] = 'on';\n",
    "        }\n",
    "        else{\n",
    "            source.data['colors'][i] = 'off';\n",
    "        }\n",
    "    }\n",
    "    source.change.emit()\n",
    "\"\"\")\n",
    "\n",
    "acc_slider.callback = CustomJS(args=dict(span=acc_span, f_slider=fair_slider, a_slider=acc_slider, \n",
    "                                          source=s.data_source), code=\"\"\"\n",
    "    span.location = a_slider.value;\n",
    "    for(var i=0 ; i < source.data['colors'].length ; i++) {\n",
    "        if(source.data['pars'][i] < f_slider.value && source.data['dists'][i] < a_slider.value) {\n",
    "            source.data['colors'][i] = 'on';\n",
    "        }\n",
    "        else{\n",
    "            source.data['colors'][i] = 'off';\n",
    "        }\n",
    "    }\n",
    "    source.change.emit()\n",
    "\"\"\")\n",
    "# b.js_on_click(CustomJS(args=dict(mapper=mapper), code=\"\"\"\n",
    "#     mapper.palette = [\"pink\", \"purple\", \"orange\"]\n",
    "# \"\"\"))\n",
    "\n",
    "# output_file(\"fairness_accuracy_slider.html\", title=\"Explore Rank Space\")\n",
    "\n",
    "show(row(plot, widgetbox(fair_slider, acc_slider)))"
   ]
  },
  {
   "cell_type": "code",
   "execution_count": 99,
   "metadata": {
    "collapsed": true
   },
   "outputs": [],
   "source": [
    "reset_output()"
   ]
  },
  {
   "cell_type": "code",
   "execution_count": 15,
   "metadata": {
    "collapsed": true
   },
   "outputs": [],
   "source": [
    "def get_rank_source(i):\n",
    "#     r = ranks[i] #\n",
    "    r = range(rank_len)\n",
    "    re0 = sliding_parity0[0]\n",
    "    re1 = sliding_parity1[0]\n",
    "    g = [group_colors[x] for x in r]\n",
    "    x = np.repeat(1,rank_len)\n",
    "    y = range(1,rank_len+1, 1)\n",
    "    names = [str(x+1) for x in r]\n",
    "    label_x = np.repeat(0.1, rank_len)\n",
    "#     label_y = [x-0.5 for x in y]\n",
    "    \n",
    "    return ColumnDataSource({'rank': r, 'x':x, 'y':y, 'color':g, \n",
    "                            'label_x': label_x, 'label_y': y, 'names': names, 'e0':re0, 'e1':re1, 'scores': scores})\n",
    "    "
   ]
  },
  {
   "cell_type": "code",
   "execution_count": 19,
   "metadata": {},
   "outputs": [],
   "source": [
    "group_colors = [i+20 if x==1 else (-1*i)-20 for i,x in enumerate(groups)]\n",
    "r_source = get_rank_source(0)\n",
    "\n",
    "m_rgb = (255 * cm.PiYG(range(256))).astype('int')\n",
    "PiYG_palette = [RGB(*tuple(rgb)).to_hex() for rgb in m_rgb]\n",
    "\n",
    "mapper = LinearColorMapper(\n",
    "    palette = PiYG_palette,\n",
    "    low = np.min(group_colors),\n",
    "    high = np.max(group_colors)\n",
    ")"
   ]
  },
  {
   "cell_type": "code",
   "execution_count": 72,
   "metadata": {
    "scrolled": true
   },
   "outputs": [
    {
     "data": {
      "text/html": [
       "\n",
       "\n",
       "\n",
       "\n",
       "\n",
       "\n",
       "  <div class=\"bk-root\" id=\"d24bd6c4-b507-4db4-87f7-659bb6f798e1\" data-root-id=\"7379\"></div>\n"
      ]
     },
     "metadata": {},
     "output_type": "display_data"
    },
    {
     "data": {
      "application/javascript": [
       "(function(root) {\n",
       "  function embed_document(root) {\n",
       "    \n",
       "  var docs_json = {\"b8495572-01e7-4f42-ad2d-596ffaa8339b\":{\"roots\":{\"references\":[{\"attributes\":{\"below\":[{\"id\":\"7390\",\"type\":\"LinearAxis\"}],\"center\":[{\"id\":\"7394\",\"type\":\"Grid\"},{\"id\":\"7399\",\"type\":\"Grid\"},{\"id\":\"7408\",\"type\":\"LabelSet\"}],\"left\":[{\"id\":\"7395\",\"type\":\"LinearAxis\"}],\"plot_height\":800,\"plot_width\":400,\"renderers\":[{\"id\":\"7406\",\"type\":\"GlyphRenderer\"}],\"title\":{\"id\":\"7380\",\"type\":\"Title\"},\"toolbar\":{\"id\":\"7401\",\"type\":\"Toolbar\"},\"toolbar_location\":null,\"x_range\":{\"id\":\"7382\",\"type\":\"DataRange1d\"},\"x_scale\":{\"id\":\"7386\",\"type\":\"LinearScale\"},\"y_range\":{\"id\":\"7384\",\"type\":\"Range1d\"},\"y_scale\":{\"id\":\"7388\",\"type\":\"LinearScale\"}},\"id\":\"7379\",\"subtype\":\"Figure\",\"type\":\"Plot\"},{\"attributes\":{\"data_source\":{\"id\":\"7377\",\"type\":\"ColumnDataSource\"},\"glyph\":{\"id\":\"7404\",\"type\":\"HBar\"},\"hover_glyph\":null,\"muted_glyph\":null,\"nonselection_glyph\":{\"id\":\"7405\",\"type\":\"HBar\"},\"selection_glyph\":null,\"view\":{\"id\":\"7407\",\"type\":\"CDSView\"}},\"id\":\"7406\",\"type\":\"GlyphRenderer\"},{\"attributes\":{},\"id\":\"7388\",\"type\":\"LinearScale\"},{\"attributes\":{},\"id\":\"7669\",\"type\":\"Selection\"},{\"attributes\":{},\"id\":\"7666\",\"type\":\"BasicTickFormatter\"},{\"attributes\":{\"formatter\":{\"id\":\"7664\",\"type\":\"BasicTickFormatter\"},\"ticker\":{\"id\":\"7391\",\"type\":\"BasicTicker\"},\"visible\":false},\"id\":\"7390\",\"type\":\"LinearAxis\"},{\"attributes\":{},\"id\":\"7391\",\"type\":\"BasicTicker\"},{\"attributes\":{\"ticker\":{\"id\":\"7391\",\"type\":\"BasicTicker\"},\"visible\":false},\"id\":\"7394\",\"type\":\"Grid\"},{\"attributes\":{\"callback\":null,\"data\":{\"color\":[20,-21,22,23,24,-25,-26,27,28,-29,30,31,32,-33,34,35,36,37,-38,39,-40,41,42,43,-44,-45,-46,47,48,49,50,51,-52,53,54,55,-56,57,58,59,60,61,62,63,-64,65,66,-67,-68,69],\"e0\":[0.3333333333333333,0.8888888888888888,0.0,0.1111111111111111,0.5555555555555556,0.3333333333333333,0.4444444444444444,0.2222222222222222,1.0,0.0,0.1111111111111111,0.0,0.1111111111111111,1.0,0.2222222222222222,0.5555555555555556,0.3333333333333333,0.1111111111111111,0.1111111111111111,0.0,0.8888888888888888,0.0,0.3333333333333333,0.2222222222222222,0.4444444444444444,0.1111111111111111,0.3333333333333333,1.0,0.1111111111111111,0.1111111111111111,0.3333333333333333,0.5555555555555556,0.8888888888888888,0.8888888888888888,0.8888888888888888,0.1111111111111111,0.1111111111111111,0.3333333333333333,0.0,0.1111111111111111,0,0,0,0,0,0,0,0,0,0],\"e1\":[0.6666666666666666,0.1111111111111111,1.0,0.8888888888888888,0.4444444444444444,0.6666666666666666,0.5555555555555556,0.7777777777777778,0.0,1.0,0.8888888888888888,1.0,0.8888888888888888,0.0,0.7777777777777778,0.4444444444444444,0.6666666666666666,0.8888888888888888,0.8888888888888888,1.0,0.1111111111111111,1.0,0.6666666666666666,0.7777777777777778,0.5555555555555556,0.8888888888888888,0.6666666666666666,0.0,0.8888888888888888,0.8888888888888888,0.6666666666666666,0.4444444444444444,0.1111111111111111,0.1111111111111111,0.1111111111111111,0.8888888888888888,0.8888888888888888,0.6666666666666666,1.0,0.8888888888888888,0,0,0,0,0,0,0,0,0,0],\"label_x\":{\"__ndarray__\":\"mpmZmZmZuT+amZmZmZm5P5qZmZmZmbk/mpmZmZmZuT+amZmZmZm5P5qZmZmZmbk/mpmZmZmZuT+amZmZmZm5P5qZmZmZmbk/mpmZmZmZuT+amZmZmZm5P5qZmZmZmbk/mpmZmZmZuT+amZmZmZm5P5qZmZmZmbk/mpmZmZmZuT+amZmZmZm5P5qZmZmZmbk/mpmZmZmZuT+amZmZmZm5P5qZmZmZmbk/mpmZmZmZuT+amZmZmZm5P5qZmZmZmbk/mpmZmZmZuT+amZmZmZm5P5qZmZmZmbk/mpmZmZmZuT+amZmZmZm5P5qZmZmZmbk/mpmZmZmZuT+amZmZmZm5P5qZmZmZmbk/mpmZmZmZuT+amZmZmZm5P5qZmZmZmbk/mpmZmZmZuT+amZmZmZm5P5qZmZmZmbk/mpmZmZmZuT+amZmZmZm5P5qZmZmZmbk/mpmZmZmZuT+amZmZmZm5P5qZmZmZmbk/mpmZmZmZuT+amZmZmZm5P5qZmZmZmbk/mpmZmZmZuT+amZmZmZm5Pw==\",\"dtype\":\"float64\",\"shape\":[50]},\"label_y\":[1,2,3,4,5,6,7,8,9,10,11,12,13,14,15,16,17,18,19,20,21,22,23,24,25,26,27,28,29,30,31,32,33,34,35,36,37,38,39,40,41,42,43,44,45,46,47,48,49,50],\"names\":[\"1\",\"2\",\"3\",\"4\",\"5\",\"6\",\"7\",\"8\",\"9\",\"10\",\"11\",\"12\",\"13\",\"14\",\"15\",\"16\",\"17\",\"18\",\"19\",\"20\",\"21\",\"22\",\"23\",\"24\",\"25\",\"26\",\"27\",\"28\",\"29\",\"30\",\"31\",\"32\",\"33\",\"34\",\"35\",\"36\",\"37\",\"38\",\"39\",\"40\",\"41\",\"42\",\"43\",\"44\",\"45\",\"46\",\"47\",\"48\",\"49\",\"50\"],\"rank\":[0,1,2,3,4,5,6,7,8,9,10,11,12,13,14,15,16,17,18,19,20,21,22,23,24,25,26,27,28,29,30,31,32,33,34,35,36,37,38,39,40,41,42,43,44,45,46,47,48,49],\"scores\":{\"__ndarray__\":\"4Q1yJUNe7T+ipleTjdvsP7BQbG7TiOw/8Yrgo+sN7D8oet2G01brP6TO2qApoOo/v5S9ZXKR6j+wn1VMSdHoP7672C1Ixuc/L+wfnval5z+6SXZ20t3mP1Ny4wQwjuY/2fV89JGU5T8Ul7o/VTHlP9h1HCDTaeQ/w+gssDbu4z9EbXaFHMXjPwQLrY9Dq+M/WT+CiBIS4z8ReZZb1/LiP6o5TH5bXuI/+jM0QcUM4j/4z5Hp4LfhP9HMQYFwUeE/il4mDtji4D8tJlKtisXgP2RRd7QxZtw/OtqBnPkk2z+maYXDw2jaP9QKeVxKhtk/BgIqukR/1D9+i1uFrGjSP+gKvhC9KtI/cIKOkvW+0T8EF74pfIHRP8YbtsR5gNE/AucAvRZd0D/4MxbxdLjPP2TL3RTLosw/HCWDnCwdyz8MSWIFuHPJP1QdNAo4Yck/gNjPwFYMvj84OkjhHBO9PziIlvn+Orc/ANZwin1esD84h9q+5RywP0DmC4CJ9ac/ALh+VE1Sij+AeCGQqlt1Pw==\",\"dtype\":\"float64\",\"shape\":[50]},\"x\":{\"__ndarray__\":\"AQAAAAEAAAABAAAAAQAAAAEAAAABAAAAAQAAAAEAAAABAAAAAQAAAAEAAAABAAAAAQAAAAEAAAABAAAAAQAAAAEAAAABAAAAAQAAAAEAAAABAAAAAQAAAAEAAAABAAAAAQAAAAEAAAABAAAAAQAAAAEAAAABAAAAAQAAAAEAAAABAAAAAQAAAAEAAAABAAAAAQAAAAEAAAABAAAAAQAAAAEAAAABAAAAAQAAAAEAAAABAAAAAQAAAAEAAAABAAAAAQAAAAEAAAA=\",\"dtype\":\"int32\",\"shape\":[50]},\"y\":[1,2,3,4,5,6,7,8,9,10,11,12,13,14,15,16,17,18,19,20,21,22,23,24,25,26,27,28,29,30,31,32,33,34,35,36,37,38,39,40,41,42,43,44,45,46,47,48,49,50]},\"selected\":{\"id\":\"7669\",\"type\":\"Selection\"},\"selection_policy\":{\"id\":\"7668\",\"type\":\"UnionRenderers\"}},\"id\":\"7377\",\"type\":\"ColumnDataSource\"},{\"attributes\":{\"formatter\":{\"id\":\"7666\",\"type\":\"BasicTickFormatter\"},\"ticker\":{\"id\":\"7396\",\"type\":\"BasicTicker\"},\"visible\":false},\"id\":\"7395\",\"type\":\"LinearAxis\"},{\"attributes\":{},\"id\":\"7396\",\"type\":\"BasicTicker\"},{\"attributes\":{\"dimension\":1,\"ticker\":{\"id\":\"7396\",\"type\":\"BasicTicker\"}},\"id\":\"7399\",\"type\":\"Grid\"},{\"attributes\":{\"active_drag\":\"auto\",\"active_inspect\":\"auto\",\"active_multi\":null,\"active_scroll\":\"auto\",\"active_tap\":\"auto\",\"tools\":[{\"id\":\"7400\",\"type\":\"PanTool\"}]},\"id\":\"7401\",\"type\":\"Toolbar\"},{\"attributes\":{\"dimensions\":\"height\"},\"id\":\"7400\",\"type\":\"PanTool\"},{\"attributes\":{},\"id\":\"7668\",\"type\":\"UnionRenderers\"},{\"attributes\":{\"fill_alpha\":{\"value\":0.1},\"fill_color\":{\"value\":\"#1f77b4\"},\"height\":{\"value\":1},\"line_alpha\":{\"value\":0.1},\"line_color\":{\"value\":\"#1f77b4\"},\"right\":{\"field\":\"scores\"},\"y\":{\"field\":\"y\"}},\"id\":\"7405\",\"type\":\"HBar\"},{\"attributes\":{\"high\":69,\"low\":-68,\"palette\":[\"#8E0152\",\"#900253\",\"#920355\",\"#940457\",\"#960558\",\"#98065A\",\"#9A075C\",\"#9D085D\",\"#9F095F\",\"#A10A61\",\"#A30B62\",\"#A50C64\",\"#A70D66\",\"#AA0E67\",\"#AC0F69\",\"#AE106B\",\"#B0116C\",\"#B2126E\",\"#B41370\",\"#B61472\",\"#B91573\",\"#BB1675\",\"#BD1777\",\"#BF1878\",\"#C1197A\",\"#C31A7C\",\"#C51C7D\",\"#C6207F\",\"#C72481\",\"#C82783\",\"#C92B85\",\"#CA2E87\",\"#CB3289\",\"#CC368B\",\"#CD398D\",\"#CE3D8F\",\"#CF4091\",\"#D04493\",\"#D14895\",\"#D24B96\",\"#D34F98\",\"#D4529A\",\"#D5569C\",\"#D65A9E\",\"#D75DA0\",\"#D861A2\",\"#D964A4\",\"#DA68A6\",\"#DB6CA8\",\"#DC6FAA\",\"#DD73AC\",\"#DE77AE\",\"#DE79AF\",\"#DF7BB1\",\"#E07EB3\",\"#E080B4\",\"#E183B6\",\"#E285B8\",\"#E388BA\",\"#E38ABB\",\"#E48DBD\",\"#E58FBF\",\"#E692C0\",\"#E694C2\",\"#E797C4\",\"#E899C6\",\"#E99CC7\",\"#E99EC9\",\"#EAA1CB\",\"#EBA3CD\",\"#ECA5CE\",\"#ECA8D0\",\"#EDAAD2\",\"#EEADD3\",\"#EFAFD5\",\"#EFB2D7\",\"#F0B4D9\",\"#F1B6DA\",\"#F1B8DB\",\"#F2BADC\",\"#F2BBDC\",\"#F3BDDD\",\"#F3BFDE\",\"#F4C0DF\",\"#F4C2E0\",\"#F5C3E1\",\"#F5C5E1\",\"#F5C7E2\",\"#F6C8E3\",\"#F6CAE4\",\"#F7CCE5\",\"#F7CDE5\",\"#F8CFE6\",\"#F8D1E7\",\"#F9D2E8\",\"#F9D4E9\",\"#FAD6EA\",\"#FAD7EA\",\"#FBD9EB\",\"#FBDBEC\",\"#FCDCED\",\"#FCDEEE\",\"#FDE0EF\",\"#FCE0EF\",\"#FCE1EF\",\"#FCE2EF\",\"#FCE3F0\",\"#FBE4F0\",\"#FBE5F0\",\"#FBE6F1\",\"#FBE7F1\",\"#FAE8F1\",\"#FAE9F2\",\"#FAE9F2\",\"#FAEAF2\",\"#F9EBF3\",\"#F9ECF3\",\"#F9EDF3\",\"#F9EEF4\",\"#F9EFF4\",\"#F8F0F4\",\"#F8F1F4\",\"#F8F2F5\",\"#F8F2F5\",\"#F7F3F5\",\"#F7F4F6\",\"#F7F5F6\",\"#F7F6F6\",\"#F6F6F6\",\"#F6F6F4\",\"#F5F6F3\",\"#F4F6F1\",\"#F4F6F0\",\"#F3F6EE\",\"#F2F6ED\",\"#F2F6EB\",\"#F1F6EA\",\"#F0F6E8\",\"#F0F6E6\",\"#EFF6E5\",\"#EEF6E3\",\"#EEF5E2\",\"#EDF5E0\",\"#ECF5DF\",\"#ECF5DD\",\"#EBF5DC\",\"#EAF5DA\",\"#EAF5D9\",\"#E9F5D7\",\"#E8F5D6\",\"#E8F5D4\",\"#E7F5D3\",\"#E6F5D1\",\"#E6F5D0\",\"#E4F4CD\",\"#E2F3CA\",\"#E0F2C7\",\"#DEF1C4\",\"#DCF1C1\",\"#DBF0BE\",\"#D9EFBB\",\"#D7EEB8\",\"#D5EDB5\",\"#D3EDB2\",\"#D2ECB0\",\"#D0EBAD\",\"#CEEAAA\",\"#CCEAA7\",\"#CAE9A4\",\"#C9E8A1\",\"#C7E79E\",\"#C5E69B\",\"#C3E698\",\"#C1E595\",\"#C0E493\",\"#BEE390\",\"#BCE28D\",\"#BAE28A\",\"#B8E187\",\"#B6E084\",\"#B4DE81\",\"#B2DD7F\",\"#B0DB7C\",\"#ADDA79\",\"#ABD977\",\"#A9D774\",\"#A7D671\",\"#A5D46F\",\"#A2D36C\",\"#A0D169\",\"#9ED066\",\"#9CCE64\",\"#99CD61\",\"#97CB5E\",\"#95CA5C\",\"#93C959\",\"#90C756\",\"#8EC653\",\"#8CC451\",\"#8AC34E\",\"#87C14B\",\"#85C049\",\"#83BE46\",\"#81BD43\",\"#7FBC41\",\"#7DBA3F\",\"#7BB83E\",\"#79B73D\",\"#77B53B\",\"#75B33A\",\"#73B239\",\"#71B038\",\"#6FAE36\",\"#6DAD35\",\"#6BAB34\",\"#69A933\",\"#67A831\",\"#65A630\",\"#63A42F\",\"#61A32E\",\"#5FA12C\",\"#5DA02B\",\"#5B9E2A\",\"#599C29\",\"#579B27\",\"#559926\",\"#539725\",\"#519624\",\"#4F9422\",\"#4D9221\",\"#4C9120\",\"#4A8F20\",\"#498D20\",\"#478B1F\",\"#46891F\",\"#44881F\",\"#43861E\",\"#41841E\",\"#40821E\",\"#3E801E\",\"#3D7F1D\",\"#3B7D1D\",\"#3A7B1D\",\"#38791C\",\"#37771C\",\"#35761C\",\"#34741B\",\"#32721B\",\"#31701B\",\"#2F6E1A\",\"#2E6D1A\",\"#2C6B1A\",\"#2B6919\",\"#296719\",\"#286519\",\"#276419\"]},\"id\":\"7378\",\"type\":\"LinearColorMapper\"},{\"attributes\":{\"fill_color\":{\"field\":\"color\",\"transform\":{\"id\":\"7378\",\"type\":\"LinearColorMapper\"}},\"height\":{\"value\":1},\"line_color\":{\"value\":\"white\"},\"right\":{\"field\":\"scores\"},\"y\":{\"field\":\"y\"}},\"id\":\"7404\",\"type\":\"HBar\"},{\"attributes\":{\"source\":{\"id\":\"7377\",\"type\":\"ColumnDataSource\"}},\"id\":\"7407\",\"type\":\"CDSView\"},{\"attributes\":{\"source\":{\"id\":\"7377\",\"type\":\"ColumnDataSource\"},\"text\":{\"field\":\"names\"},\"text_color\":{\"value\":\"black\"},\"x\":{\"field\":\"label_x\"},\"y\":{\"field\":\"label_y\"}},\"id\":\"7408\",\"type\":\"LabelSet\"},{\"attributes\":{},\"id\":\"7664\",\"type\":\"BasicTickFormatter\"},{\"attributes\":{\"text\":\" \"},\"id\":\"7380\",\"type\":\"Title\"},{\"attributes\":{\"callback\":null},\"id\":\"7382\",\"type\":\"DataRange1d\"},{\"attributes\":{\"callback\":null,\"end\":0,\"start\":20},\"id\":\"7384\",\"type\":\"Range1d\"},{\"attributes\":{},\"id\":\"7386\",\"type\":\"LinearScale\"}],\"root_ids\":[\"7379\"]},\"title\":\"Bokeh Application\",\"version\":\"1.4.0\"}};\n",
       "  var render_items = [{\"docid\":\"b8495572-01e7-4f42-ad2d-596ffaa8339b\",\"roots\":{\"7379\":\"d24bd6c4-b507-4db4-87f7-659bb6f798e1\"}}];\n",
       "  root.Bokeh.embed.embed_items_notebook(docs_json, render_items);\n",
       "\n",
       "  }\n",
       "  if (root.Bokeh !== undefined) {\n",
       "    embed_document(root);\n",
       "  } else {\n",
       "    var attempts = 0;\n",
       "    var timer = setInterval(function(root) {\n",
       "      if (root.Bokeh !== undefined) {\n",
       "        clearInterval(timer);\n",
       "        embed_document(root);\n",
       "      } else {\n",
       "        attempts++;\n",
       "        if (attempts > 100) {\n",
       "          clearInterval(timer);\n",
       "          console.log(\"Bokeh: ERROR: Unable to run BokehJS code because BokehJS library is missing\");\n",
       "        }\n",
       "      }\n",
       "    }, 10, root)\n",
       "  }\n",
       "})(window);"
      ],
      "application/vnd.bokehjs_exec.v0+json": ""
     },
     "metadata": {
      "application/vnd.bokehjs_exec.v0+json": {
       "id": "7379"
      }
     },
     "output_type": "display_data"
    }
   ],
   "source": [
    "hm = figure(title=\" \", y_range=(20, 0), plot_width=400, plot_height=800, tools=\"ypan\", toolbar_location=None)\n",
    "hm.xaxis.visible = False\n",
    "hm.yaxis.visible = False\n",
    "hm.xgrid.visible = False\n",
    "# hm.rect('x', 'y', source= r_source,  \n",
    "#         fill_color={\"field\":'color', \"transform\":mapper}, \n",
    "#         line_color=\"white\", width='scores', height=1)\n",
    "\n",
    "hm.hbar(source= r_source,  \n",
    "        fill_color={\"field\":'color', \"transform\":mapper}, \n",
    "        line_color=\"white\", y='y', left=0, right='scores', height=1)\n",
    "\n",
    "# y=[1, 2, 3], height=0.5, left=0,\n",
    "#        right=[1.2, 2.5, 3.7]source= r_source, color=\"navy\")\n",
    "\n",
    "labels = LabelSet(x='label_x', y='label_y', text='names', text_color='black',\n",
    "         source=r_source)\n",
    "\n",
    "hm.add_layout(labels)\n",
    "# output_file(\"categorical.html\", title=\"categorical.py example\")\n",
    "\n",
    "show(hm)"
   ]
  },
  {
   "cell_type": "code",
   "execution_count": 20,
   "metadata": {},
   "outputs": [
    {
     "data": {
      "text/plain": [
       "[4.39822971502571, 1.8849555921538759]"
      ]
     },
     "execution_count": 20,
     "metadata": {},
     "output_type": "execute_result"
    }
   ],
   "source": [
    "group_sizes = ColumnDataSource({'names':['Group A','Group B'], \n",
    "                                'angles':[((rank_len - m)/rank_len)*2*np.pi , (m/rank_len)*2*np.pi ],\n",
    "                                'colors':[green_group,pink_group]})\n",
    "group_sizes.data['angles']"
   ]
  },
  {
   "cell_type": "code",
   "execution_count": 24,
   "metadata": {
    "scrolled": false
   },
   "outputs": [
    {
     "data": {
      "text/html": [
       "\n",
       "\n",
       "\n",
       "\n",
       "\n",
       "\n",
       "  <div class=\"bk-root\" id=\"7093ce77-1e47-44dc-965a-a48ba8da4978\" data-root-id=\"2910\"></div>\n"
      ]
     },
     "metadata": {},
     "output_type": "display_data"
    },
    {
     "data": {
      "application/javascript": [
       "(function(root) {\n",
       "  function embed_document(root) {\n",
       "    \n",
       "  var docs_json = {\"45add948-0e21-4b03-9593-83557db53139\":{\"roots\":{\"references\":[{\"attributes\":{\"children\":[{\"id\":\"2780\",\"subtype\":\"Figure\",\"type\":\"Plot\"},{\"id\":\"2909\",\"type\":\"Column\"}]},\"id\":\"2910\",\"type\":\"Row\"},{\"attributes\":{\"source\":{\"id\":\"1029\",\"type\":\"ColumnDataSource\"}},\"id\":\"2900\",\"type\":\"CDSView\"},{\"attributes\":{},\"id\":\"2787\",\"type\":\"LinearScale\"},{\"attributes\":{},\"id\":\"2902\",\"type\":\"BasicTickFormatter\"},{\"attributes\":{},\"id\":\"2789\",\"type\":\"LinearScale\"},{\"attributes\":{},\"id\":\"2904\",\"type\":\"BasicTickFormatter\"},{\"attributes\":{\"bottom_units\":\"screen\",\"fill_alpha\":{\"value\":0.5},\"fill_color\":{\"value\":\"lightgrey\"},\"left_units\":\"screen\",\"level\":\"overlay\",\"line_alpha\":{\"value\":1.0},\"line_color\":{\"value\":\"black\"},\"line_dash\":[4,4],\"line_width\":{\"value\":2},\"render_mode\":\"css\",\"right_units\":\"screen\",\"top_units\":\"screen\"},\"id\":\"2906\",\"type\":\"BoxAnnotation\"},{\"attributes\":{\"callback\":null,\"end\":0,\"start\":10},\"id\":\"2785\",\"type\":\"Range1d\"},{\"attributes\":{\"items\":[{\"id\":\"2908\",\"type\":\"LegendItem\"}]},\"id\":\"2907\",\"type\":\"Legend\"},{\"attributes\":{\"overlay\":{\"id\":\"2846\",\"type\":\"BoxAnnotation\"},\"x_range\":{\"id\":\"2785\",\"type\":\"Range1d\"},\"y_range\":null},\"id\":\"2845\",\"type\":\"RangeTool\"},{\"attributes\":{\"fill_color\":{\"field\":\"color\",\"transform\":{\"id\":\"1028\",\"type\":\"LinearColorMapper\"}},\"height\":{\"value\":1},\"line_color\":{\"value\":\"white\"},\"right\":{\"field\":\"scores\"},\"y\":{\"field\":\"y\"}},\"id\":\"2805\",\"type\":\"HBar\"},{\"attributes\":{\"label\":{\"field\":\"names\"},\"renderers\":[{\"id\":\"2899\",\"type\":\"GlyphRenderer\"}]},\"id\":\"2908\",\"type\":\"LegendItem\"},{\"attributes\":{\"formatter\":{\"id\":\"2980\",\"type\":\"BasicTickFormatter\"},\"ticker\":{\"id\":\"2792\",\"type\":\"BasicTicker\"},\"visible\":false},\"id\":\"2791\",\"type\":\"LinearAxis\"},{\"attributes\":{},\"id\":\"2836\",\"type\":\"ResetTool\"},{\"attributes\":{\"bottom_units\":\"screen\",\"fill_alpha\":{\"value\":0.5},\"fill_color\":{\"value\":\"lightgrey\"},\"left_units\":\"screen\",\"level\":\"overlay\",\"line_alpha\":{\"value\":1.0},\"line_color\":{\"value\":\"black\"},\"line_dash\":[4,4],\"line_width\":{\"value\":2},\"render_mode\":\"css\",\"right_units\":\"screen\",\"top_units\":\"screen\"},\"id\":\"2998\",\"type\":\"BoxAnnotation\"},{\"attributes\":{},\"id\":\"1168\",\"type\":\"UnionRenderers\"},{\"attributes\":{},\"id\":\"2835\",\"type\":\"SaveTool\"},{\"attributes\":{},\"id\":\"1169\",\"type\":\"Selection\"},{\"attributes\":{},\"id\":\"2992\",\"type\":\"BasicTickFormatter\"},{\"attributes\":{},\"id\":\"2990\",\"type\":\"BasicTickFormatter\"},{\"attributes\":{\"ticker\":{\"id\":\"2792\",\"type\":\"BasicTicker\"},\"visible\":false},\"id\":\"2795\",\"type\":\"Grid\"},{\"attributes\":{},\"id\":\"1180\",\"type\":\"Selection\"},{\"attributes\":{},\"id\":\"2832\",\"type\":\"PanTool\"},{\"attributes\":{\"source\":{\"id\":\"1027\",\"type\":\"ColumnDataSource\"}},\"id\":\"2808\",\"type\":\"CDSView\"},{\"attributes\":{},\"id\":\"2833\",\"type\":\"WheelZoomTool\"},{\"attributes\":{},\"id\":\"2792\",\"type\":\"BasicTicker\"},{\"attributes\":{\"dimensions\":\"height\"},\"id\":\"2801\",\"type\":\"PanTool\"},{\"attributes\":{},\"id\":\"2818\",\"type\":\"LinearScale\"},{\"attributes\":{\"formatter\":{\"id\":\"2978\",\"type\":\"BasicTickFormatter\"},\"ticker\":{\"id\":\"2797\",\"type\":\"BasicTicker\"}},\"id\":\"2796\",\"type\":\"LinearAxis\"},{\"attributes\":{\"dimension\":1,\"ticker\":{\"id\":\"2797\",\"type\":\"BasicTicker\"}},\"id\":\"2800\",\"type\":\"Grid\"},{\"attributes\":{\"active_drag\":\"auto\",\"active_inspect\":\"auto\",\"active_multi\":null,\"active_scroll\":\"auto\",\"active_tap\":\"auto\",\"tools\":[{\"id\":\"2801\",\"type\":\"PanTool\"}]},\"id\":\"2802\",\"type\":\"Toolbar\"},{\"attributes\":{},\"id\":\"2797\",\"type\":\"BasicTicker\"},{\"attributes\":{\"data_source\":{\"id\":\"1027\",\"type\":\"ColumnDataSource\"},\"glyph\":{\"id\":\"2805\",\"type\":\"HBar\"},\"hover_glyph\":null,\"muted_glyph\":null,\"nonselection_glyph\":{\"id\":\"2806\",\"type\":\"HBar\"},\"selection_glyph\":null,\"view\":{\"id\":\"2808\",\"type\":\"CDSView\"}},\"id\":\"2807\",\"type\":\"GlyphRenderer\"},{\"attributes\":{\"callback\":null},\"id\":\"2816\",\"type\":\"DataRange1d\"},{\"attributes\":{},\"id\":\"2828\",\"type\":\"BasicTicker\"},{\"attributes\":{\"fill_alpha\":{\"value\":0.3},\"fill_color\":{\"value\":\"grey\"},\"level\":\"overlay\",\"line_alpha\":{\"value\":1.0},\"line_color\":{\"value\":\"black\"},\"line_dash\":[2,2],\"line_width\":{\"value\":0.5}},\"id\":\"2846\",\"type\":\"BoxAnnotation\"},{\"attributes\":{\"fill_alpha\":{\"value\":0.1},\"fill_color\":{\"value\":\"#1f77b4\"},\"height\":{\"value\":1},\"line_alpha\":{\"value\":0.1},\"line_color\":{\"value\":\"#1f77b4\"},\"right\":{\"field\":\"scores\"},\"y\":{\"field\":\"y\"}},\"id\":\"2806\",\"type\":\"HBar\"},{\"attributes\":{\"overlay\":{\"id\":\"2998\",\"type\":\"BoxAnnotation\"}},\"id\":\"2834\",\"type\":\"BoxZoomTool\"},{\"attributes\":{\"background_fill_color\":{\"value\":\"#efefef\"},\"below\":[{\"id\":\"2822\",\"type\":\"LinearAxis\"}],\"center\":[{\"id\":\"2826\",\"type\":\"Grid\"},{\"id\":\"2831\",\"type\":\"Grid\"}],\"left\":[{\"id\":\"2827\",\"type\":\"LinearAxis\"}],\"plot_height\":200,\"renderers\":[{\"id\":\"2851\",\"type\":\"GlyphRenderer\"},{\"id\":\"2856\",\"type\":\"GlyphRenderer\"}],\"title\":{\"id\":\"2812\",\"type\":\"Title\"},\"toolbar\":{\"id\":\"2838\",\"type\":\"Toolbar\"},\"toolbar_location\":null,\"x_range\":{\"id\":\"2814\",\"type\":\"Range1d\"},\"x_scale\":{\"id\":\"2818\",\"type\":\"LinearScale\"},\"y_range\":{\"id\":\"2816\",\"type\":\"DataRange1d\"},\"y_scale\":{\"id\":\"2820\",\"type\":\"LinearScale\"}},\"id\":\"2811\",\"subtype\":\"Figure\",\"type\":\"Plot\"},{\"attributes\":{\"text\":\"Group advantage\"},\"id\":\"2812\",\"type\":\"Title\"},{\"attributes\":{\"formatter\":{\"id\":\"2992\",\"type\":\"BasicTickFormatter\"},\"ticker\":{\"id\":\"2823\",\"type\":\"BasicTicker\"}},\"id\":\"2822\",\"type\":\"LinearAxis\"},{\"attributes\":{},\"id\":\"2820\",\"type\":\"LinearScale\"},{\"attributes\":{},\"id\":\"2823\",\"type\":\"BasicTicker\"},{\"attributes\":{\"ticker\":{\"id\":\"2823\",\"type\":\"BasicTicker\"}},\"id\":\"2826\",\"type\":\"Grid\"},{\"attributes\":{\"formatter\":{\"id\":\"2990\",\"type\":\"BasicTickFormatter\"},\"ticker\":{\"id\":\"2828\",\"type\":\"BasicTicker\"}},\"id\":\"2827\",\"type\":\"LinearAxis\"},{\"attributes\":{\"dimension\":1,\"grid_line_color\":null,\"ticker\":{\"id\":\"2828\",\"type\":\"BasicTicker\"}},\"id\":\"2831\",\"type\":\"Grid\"},{\"attributes\":{\"callback\":null,\"data\":{\"angles\":[4.39822971502571,1.8849555921538759],\"colors\":[\"#85C049\",\"#8E0152\"],\"names\":[\"Group A\",\"Group B\"]},\"selected\":{\"id\":\"1180\",\"type\":\"Selection\"},\"selection_policy\":{\"id\":\"1179\",\"type\":\"UnionRenderers\"}},\"id\":\"1029\",\"type\":\"ColumnDataSource\"},{\"attributes\":{\"fill_alpha\":0.5,\"fill_color\":\"#85C049\",\"x\":{\"field\":\"y\"},\"y1\":{\"value\":0},\"y2\":{\"field\":\"e1\"}},\"id\":\"2849\",\"type\":\"VArea\"},{\"attributes\":{\"fill_alpha\":0.1,\"fill_color\":\"#1f77b4\",\"x\":{\"field\":\"y\"},\"y1\":{\"value\":0},\"y2\":{\"field\":\"e0\"}},\"id\":\"2855\",\"type\":\"VArea\"},{\"attributes\":{\"data_source\":{\"id\":\"1027\",\"type\":\"ColumnDataSource\"},\"glyph\":{\"id\":\"2854\",\"type\":\"VArea\"},\"hover_glyph\":null,\"muted_glyph\":null,\"nonselection_glyph\":{\"id\":\"2855\",\"type\":\"VArea\"},\"selection_glyph\":null,\"view\":{\"id\":\"2857\",\"type\":\"CDSView\"}},\"id\":\"2856\",\"type\":\"GlyphRenderer\"},{\"attributes\":{\"high\":64,\"low\":-69,\"palette\":[\"#8E0152\",\"#900253\",\"#920355\",\"#940457\",\"#960558\",\"#98065A\",\"#9A075C\",\"#9D085D\",\"#9F095F\",\"#A10A61\",\"#A30B62\",\"#A50C64\",\"#A70D66\",\"#AA0E67\",\"#AC0F69\",\"#AE106B\",\"#B0116C\",\"#B2126E\",\"#B41370\",\"#B61472\",\"#B91573\",\"#BB1675\",\"#BD1777\",\"#BF1878\",\"#C1197A\",\"#C31A7C\",\"#C51C7D\",\"#C6207F\",\"#C72481\",\"#C82783\",\"#C92B85\",\"#CA2E87\",\"#CB3289\",\"#CC368B\",\"#CD398D\",\"#CE3D8F\",\"#CF4091\",\"#D04493\",\"#D14895\",\"#D24B96\",\"#D34F98\",\"#D4529A\",\"#D5569C\",\"#D65A9E\",\"#D75DA0\",\"#D861A2\",\"#D964A4\",\"#DA68A6\",\"#DB6CA8\",\"#DC6FAA\",\"#DD73AC\",\"#DE77AE\",\"#DE79AF\",\"#DF7BB1\",\"#E07EB3\",\"#E080B4\",\"#E183B6\",\"#E285B8\",\"#E388BA\",\"#E38ABB\",\"#E48DBD\",\"#E58FBF\",\"#E692C0\",\"#E694C2\",\"#E797C4\",\"#E899C6\",\"#E99CC7\",\"#E99EC9\",\"#EAA1CB\",\"#EBA3CD\",\"#ECA5CE\",\"#ECA8D0\",\"#EDAAD2\",\"#EEADD3\",\"#EFAFD5\",\"#EFB2D7\",\"#F0B4D9\",\"#F1B6DA\",\"#F1B8DB\",\"#F2BADC\",\"#F2BBDC\",\"#F3BDDD\",\"#F3BFDE\",\"#F4C0DF\",\"#F4C2E0\",\"#F5C3E1\",\"#F5C5E1\",\"#F5C7E2\",\"#F6C8E3\",\"#F6CAE4\",\"#F7CCE5\",\"#F7CDE5\",\"#F8CFE6\",\"#F8D1E7\",\"#F9D2E8\",\"#F9D4E9\",\"#FAD6EA\",\"#FAD7EA\",\"#FBD9EB\",\"#FBDBEC\",\"#FCDCED\",\"#FCDEEE\",\"#FDE0EF\",\"#FCE0EF\",\"#FCE1EF\",\"#FCE2EF\",\"#FCE3F0\",\"#FBE4F0\",\"#FBE5F0\",\"#FBE6F1\",\"#FBE7F1\",\"#FAE8F1\",\"#FAE9F2\",\"#FAE9F2\",\"#FAEAF2\",\"#F9EBF3\",\"#F9ECF3\",\"#F9EDF3\",\"#F9EEF4\",\"#F9EFF4\",\"#F8F0F4\",\"#F8F1F4\",\"#F8F2F5\",\"#F8F2F5\",\"#F7F3F5\",\"#F7F4F6\",\"#F7F5F6\",\"#F7F6F6\",\"#F6F6F6\",\"#F6F6F4\",\"#F5F6F3\",\"#F4F6F1\",\"#F4F6F0\",\"#F3F6EE\",\"#F2F6ED\",\"#F2F6EB\",\"#F1F6EA\",\"#F0F6E8\",\"#F0F6E6\",\"#EFF6E5\",\"#EEF6E3\",\"#EEF5E2\",\"#EDF5E0\",\"#ECF5DF\",\"#ECF5DD\",\"#EBF5DC\",\"#EAF5DA\",\"#EAF5D9\",\"#E9F5D7\",\"#E8F5D6\",\"#E8F5D4\",\"#E7F5D3\",\"#E6F5D1\",\"#E6F5D0\",\"#E4F4CD\",\"#E2F3CA\",\"#E0F2C7\",\"#DEF1C4\",\"#DCF1C1\",\"#DBF0BE\",\"#D9EFBB\",\"#D7EEB8\",\"#D5EDB5\",\"#D3EDB2\",\"#D2ECB0\",\"#D0EBAD\",\"#CEEAAA\",\"#CCEAA7\",\"#CAE9A4\",\"#C9E8A1\",\"#C7E79E\",\"#C5E69B\",\"#C3E698\",\"#C1E595\",\"#C0E493\",\"#BEE390\",\"#BCE28D\",\"#BAE28A\",\"#B8E187\",\"#B6E084\",\"#B4DE81\",\"#B2DD7F\",\"#B0DB7C\",\"#ADDA79\",\"#ABD977\",\"#A9D774\",\"#A7D671\",\"#A5D46F\",\"#A2D36C\",\"#A0D169\",\"#9ED066\",\"#9CCE64\",\"#99CD61\",\"#97CB5E\",\"#95CA5C\",\"#93C959\",\"#90C756\",\"#8EC653\",\"#8CC451\",\"#8AC34E\",\"#87C14B\",\"#85C049\",\"#83BE46\",\"#81BD43\",\"#7FBC41\",\"#7DBA3F\",\"#7BB83E\",\"#79B73D\",\"#77B53B\",\"#75B33A\",\"#73B239\",\"#71B038\",\"#6FAE36\",\"#6DAD35\",\"#6BAB34\",\"#69A933\",\"#67A831\",\"#65A630\",\"#63A42F\",\"#61A32E\",\"#5FA12C\",\"#5DA02B\",\"#5B9E2A\",\"#599C29\",\"#579B27\",\"#559926\",\"#539725\",\"#519624\",\"#4F9422\",\"#4D9221\",\"#4C9120\",\"#4A8F20\",\"#498D20\",\"#478B1F\",\"#46891F\",\"#44881F\",\"#43861E\",\"#41841E\",\"#40821E\",\"#3E801E\",\"#3D7F1D\",\"#3B7D1D\",\"#3A7B1D\",\"#38791C\",\"#37771C\",\"#35761C\",\"#34741B\",\"#32721B\",\"#31701B\",\"#2F6E1A\",\"#2E6D1A\",\"#2C6B1A\",\"#2B6919\",\"#296719\",\"#286519\",\"#276419\"]},\"id\":\"1028\",\"type\":\"LinearColorMapper\"},{\"attributes\":{\"source\":{\"id\":\"1027\",\"type\":\"ColumnDataSource\"}},\"id\":\"2857\",\"type\":\"CDSView\"},{\"attributes\":{\"field\":\"angles\",\"include_zero\":true},\"id\":\"2894\",\"type\":\"CumSum\"},{\"attributes\":{\"below\":[{\"id\":\"2871\",\"type\":\"LinearAxis\"}],\"center\":[{\"id\":\"2875\",\"type\":\"Grid\"},{\"id\":\"2880\",\"type\":\"Grid\"},{\"id\":\"2907\",\"type\":\"Legend\"}],\"left\":[{\"id\":\"2876\",\"type\":\"LinearAxis\"}],\"plot_height\":200,\"plot_width\":400,\"renderers\":[{\"id\":\"2899\",\"type\":\"GlyphRenderer\"}],\"title\":{\"id\":\"2861\",\"type\":\"Title\"},\"toolbar\":{\"id\":\"2887\",\"type\":\"Toolbar\"},\"toolbar_location\":null,\"x_range\":{\"id\":\"2863\",\"type\":\"Range1d\"},\"x_scale\":{\"id\":\"2867\",\"type\":\"LinearScale\"},\"y_range\":{\"id\":\"2865\",\"type\":\"DataRange1d\"},\"y_scale\":{\"id\":\"2869\",\"type\":\"LinearScale\"}},\"id\":\"2860\",\"subtype\":\"Figure\",\"type\":\"Plot\"},{\"attributes\":{\"text\":\"Groups Distribution\"},\"id\":\"2861\",\"type\":\"Title\"},{\"attributes\":{\"callback\":null,\"start\":-0.5},\"id\":\"2863\",\"type\":\"Range1d\"},{\"attributes\":{\"callback\":null},\"id\":\"2865\",\"type\":\"DataRange1d\"},{\"attributes\":{},\"id\":\"2867\",\"type\":\"LinearScale\"},{\"attributes\":{\"fill_alpha\":0.5,\"fill_color\":\"#8E0152\",\"x\":{\"field\":\"y\"},\"y1\":{\"value\":0},\"y2\":{\"field\":\"e0\"}},\"id\":\"2854\",\"type\":\"VArea\"},{\"attributes\":{},\"id\":\"2980\",\"type\":\"BasicTickFormatter\"},{\"attributes\":{},\"id\":\"2837\",\"type\":\"HelpTool\"},{\"attributes\":{\"source\":{\"id\":\"1027\",\"type\":\"ColumnDataSource\"}},\"id\":\"2852\",\"type\":\"CDSView\"},{\"attributes\":{\"axis_label\":null,\"formatter\":{\"id\":\"2904\",\"type\":\"BasicTickFormatter\"},\"ticker\":{\"id\":\"2872\",\"type\":\"BasicTicker\"},\"visible\":false},\"id\":\"2871\",\"type\":\"LinearAxis\"},{\"attributes\":{},\"id\":\"2869\",\"type\":\"LinearScale\"},{\"attributes\":{},\"id\":\"2877\",\"type\":\"BasicTicker\"},{\"attributes\":{\"axis_label\":null,\"formatter\":{\"id\":\"2902\",\"type\":\"BasicTickFormatter\"},\"ticker\":{\"id\":\"2877\",\"type\":\"BasicTicker\"},\"visible\":false},\"id\":\"2876\",\"type\":\"LinearAxis\"},{\"attributes\":{\"grid_line_color\":null,\"ticker\":{\"id\":\"2872\",\"type\":\"BasicTicker\"}},\"id\":\"2875\",\"type\":\"Grid\"},{\"attributes\":{},\"id\":\"2872\",\"type\":\"BasicTicker\"},{\"attributes\":{\"dimension\":1,\"grid_line_color\":null,\"ticker\":{\"id\":\"2877\",\"type\":\"BasicTicker\"}},\"id\":\"2880\",\"type\":\"Grid\"},{\"attributes\":{\"field\":\"angles\"},\"id\":\"2895\",\"type\":\"CumSum\"},{\"attributes\":{},\"id\":\"2978\",\"type\":\"BasicTickFormatter\"},{\"attributes\":{\"data_source\":{\"id\":\"1027\",\"type\":\"ColumnDataSource\"},\"glyph\":{\"id\":\"2849\",\"type\":\"VArea\"},\"hover_glyph\":null,\"muted_glyph\":null,\"nonselection_glyph\":{\"id\":\"2850\",\"type\":\"VArea\"},\"selection_glyph\":null,\"view\":{\"id\":\"2852\",\"type\":\"CDSView\"}},\"id\":\"2851\",\"type\":\"GlyphRenderer\"},{\"attributes\":{\"fill_alpha\":0.1,\"fill_color\":\"#1f77b4\",\"x\":{\"field\":\"y\"},\"y1\":{\"value\":0},\"y2\":{\"field\":\"e1\"}},\"id\":\"2850\",\"type\":\"VArea\"},{\"attributes\":{\"text\":\" \"},\"id\":\"2781\",\"type\":\"Title\"},{\"attributes\":{\"active_drag\":\"auto\",\"active_inspect\":\"auto\",\"active_multi\":{\"id\":\"2845\",\"type\":\"RangeTool\"},\"active_scroll\":\"auto\",\"active_tap\":\"auto\",\"tools\":[{\"id\":\"2832\",\"type\":\"PanTool\"},{\"id\":\"2833\",\"type\":\"WheelZoomTool\"},{\"id\":\"2834\",\"type\":\"BoxZoomTool\"},{\"id\":\"2835\",\"type\":\"SaveTool\"},{\"id\":\"2836\",\"type\":\"ResetTool\"},{\"id\":\"2837\",\"type\":\"HelpTool\"},{\"id\":\"2845\",\"type\":\"RangeTool\"}]},\"id\":\"2838\",\"type\":\"Toolbar\"},{\"attributes\":{\"source\":{\"id\":\"1027\",\"type\":\"ColumnDataSource\"},\"text\":{\"field\":\"names\"},\"text_color\":{\"value\":\"black\"},\"x\":{\"field\":\"label_x\"},\"y\":{\"field\":\"label_y\"}},\"id\":\"2809\",\"type\":\"LabelSet\"},{\"attributes\":{\"active_drag\":\"auto\",\"active_inspect\":\"auto\",\"active_multi\":null,\"active_scroll\":\"auto\",\"active_tap\":\"auto\",\"tools\":[{\"id\":\"2881\",\"type\":\"PanTool\"},{\"id\":\"2882\",\"type\":\"WheelZoomTool\"},{\"id\":\"2883\",\"type\":\"BoxZoomTool\"},{\"id\":\"2884\",\"type\":\"SaveTool\"},{\"id\":\"2885\",\"type\":\"ResetTool\"},{\"id\":\"2886\",\"type\":\"HelpTool\"}]},\"id\":\"2887\",\"type\":\"Toolbar\"},{\"attributes\":{\"data_source\":{\"id\":\"1029\",\"type\":\"ColumnDataSource\"},\"glyph\":{\"id\":\"2897\",\"type\":\"Wedge\"},\"hover_glyph\":null,\"muted_glyph\":null,\"nonselection_glyph\":{\"id\":\"2898\",\"type\":\"Wedge\"},\"selection_glyph\":null,\"view\":{\"id\":\"2900\",\"type\":\"CDSView\"}},\"id\":\"2899\",\"type\":\"GlyphRenderer\"},{\"attributes\":{},\"id\":\"1179\",\"type\":\"UnionRenderers\"},{\"attributes\":{\"children\":[{\"id\":\"2860\",\"subtype\":\"Figure\",\"type\":\"Plot\"},{\"id\":\"2811\",\"subtype\":\"Figure\",\"type\":\"Plot\"}]},\"id\":\"2909\",\"type\":\"Column\"},{\"attributes\":{\"callback\":null,\"data\":{\"color\":[20,21,22,-23,24,25,26,27,28,29,30,31,-32,33,34,35,36,37,38,39,-40,41,42,43,-44,-45,46,-47,48,49,50,-51,52,53,54,55,56,-57,58,59,-60,61,-62,63,64,-65,-66,-67,-68,-69],\"e0\":[0.4444444444444444,0.2222222222222222,0.5555555555555556,0.6666666666666666,0.7777777777777778,0.6666666666666666,0.0,0.1111111111111111,0.6666666666666666,0.2222222222222222,0.3333333333333333,0.3333333333333333,0.6666666666666666,0.1111111111111111,0.8888888888888888,0.1111111111111111,0.2222222222222222,0.6666666666666666,0.5555555555555556,1.0,0.3333333333333333,1.0,0.5555555555555556,0.6666666666666666,0.7777777777777778,0.3333333333333333,0.2222222222222222,0.3333333333333333,0.4444444444444444,0.3333333333333333,0.6666666666666666,0.8888888888888888,0.5555555555555556,0.8888888888888888,0.0,0.6666666666666666,0.6666666666666666,0.7777777777777778,0.5555555555555556,0.4444444444444444,0,0,0,0,0,0,0,0,0,0],\"e1\":[0.5555555555555556,0.7777777777777778,0.4444444444444444,0.3333333333333333,0.2222222222222222,0.3333333333333333,1.0,0.8888888888888888,0.3333333333333333,0.7777777777777778,0.6666666666666666,0.6666666666666666,0.3333333333333333,0.8888888888888888,0.1111111111111111,0.8888888888888888,0.7777777777777778,0.3333333333333333,0.4444444444444444,0.0,0.6666666666666666,0.0,0.4444444444444444,0.3333333333333333,0.2222222222222222,0.6666666666666666,0.7777777777777778,0.6666666666666666,0.5555555555555556,0.6666666666666666,0.3333333333333333,0.1111111111111111,0.4444444444444444,0.1111111111111111,1.0,0.3333333333333333,0.3333333333333333,0.2222222222222222,0.4444444444444444,0.5555555555555556,0,0,0,0,0,0,0,0,0,0],\"label_x\":{\"__ndarray__\":\"mpmZmZmZuT+amZmZmZm5P5qZmZmZmbk/mpmZmZmZuT+amZmZmZm5P5qZmZmZmbk/mpmZmZmZuT+amZmZmZm5P5qZmZmZmbk/mpmZmZmZuT+amZmZmZm5P5qZmZmZmbk/mpmZmZmZuT+amZmZmZm5P5qZmZmZmbk/mpmZmZmZuT+amZmZmZm5P5qZmZmZmbk/mpmZmZmZuT+amZmZmZm5P5qZmZmZmbk/mpmZmZmZuT+amZmZmZm5P5qZmZmZmbk/mpmZmZmZuT+amZmZmZm5P5qZmZmZmbk/mpmZmZmZuT+amZmZmZm5P5qZmZmZmbk/mpmZmZmZuT+amZmZmZm5P5qZmZmZmbk/mpmZmZmZuT+amZmZmZm5P5qZmZmZmbk/mpmZmZmZuT+amZmZmZm5P5qZmZmZmbk/mpmZmZmZuT+amZmZmZm5P5qZmZmZmbk/mpmZmZmZuT+amZmZmZm5P5qZmZmZmbk/mpmZmZmZuT+amZmZmZm5P5qZmZmZmbk/mpmZmZmZuT+amZmZmZm5Pw==\",\"dtype\":\"float64\",\"shape\":[50]},\"label_y\":[1,2,3,4,5,6,7,8,9,10,11,12,13,14,15,16,17,18,19,20,21,22,23,24,25,26,27,28,29,30,31,32,33,34,35,36,37,38,39,40,41,42,43,44,45,46,47,48,49,50],\"names\":[\"1\",\"2\",\"3\",\"4\",\"5\",\"6\",\"7\",\"8\",\"9\",\"10\",\"11\",\"12\",\"13\",\"14\",\"15\",\"16\",\"17\",\"18\",\"19\",\"20\",\"21\",\"22\",\"23\",\"24\",\"25\",\"26\",\"27\",\"28\",\"29\",\"30\",\"31\",\"32\",\"33\",\"34\",\"35\",\"36\",\"37\",\"38\",\"39\",\"40\",\"41\",\"42\",\"43\",\"44\",\"45\",\"46\",\"47\",\"48\",\"49\",\"50\"],\"rank\":[0,1,2,3,4,5,6,7,8,9,10,11,12,13,14,15,16,17,18,19,20,21,22,23,24,25,26,27,28,29,30,31,32,33,34,35,36,37,38,39,40,41,42,43,44,45,46,47,48,49],\"scores\":{\"__ndarray__\":\"oPq9z5ja7z/cYu0FefLuP4bHax7x7+4/kkfOu0xk7j+DMtAYkX/tP+eamJaIUu0/2RMWrn9E7T8RTRoWXQjtP1WdUp2U8uw/ypTAqZnJ7D9eu8e7iLDsPwW2JKfkqew/+8YbxQeZ6j8Sj2XnJCTqP9U/oNDx0+g/jg9kY1PK5z9YiC+1TcHnP0IFL5Y8X+c/xOXdzXTI5j9MuY+JjVblP873foTS0uM/iyQ6DCzm4j8MLPgliqHiP0oOYgL5X+E/GrG3DXSw3T8Wd/NBdGvdP5yqHqi7D90/CHUAmE7E2z/kAb607rjaPz4+EYzOk9o/mBjrP3eN2T/IsTZN+0jZP2pj+cMLCdk/JFTMsGYB2D/ejr4ys5XXP7BuTEbC3dY/WJj5aqq+1T9+fDBoSYbVPzbt8fM5ddQ/1OGoY2lT0z9mK/5oigHTP7AdNNWhytI//B9ys2Zp0D84AeSRhAHFP7wpByw5lMQ//Kh3xhGSwz+otlLe+P/CPwDs2By7fbY/cEOzsXBwoT9QJ7qewICgPw==\",\"dtype\":\"float64\",\"shape\":[50]},\"x\":{\"__ndarray__\":\"AQAAAAEAAAABAAAAAQAAAAEAAAABAAAAAQAAAAEAAAABAAAAAQAAAAEAAAABAAAAAQAAAAEAAAABAAAAAQAAAAEAAAABAAAAAQAAAAEAAAABAAAAAQAAAAEAAAABAAAAAQAAAAEAAAABAAAAAQAAAAEAAAABAAAAAQAAAAEAAAABAAAAAQAAAAEAAAABAAAAAQAAAAEAAAABAAAAAQAAAAEAAAABAAAAAQAAAAEAAAABAAAAAQAAAAEAAAABAAAAAQAAAAEAAAA=\",\"dtype\":\"int32\",\"shape\":[50]},\"y\":[1,2,3,4,5,6,7,8,9,10,11,12,13,14,15,16,17,18,19,20,21,22,23,24,25,26,27,28,29,30,31,32,33,34,35,36,37,38,39,40,41,42,43,44,45,46,47,48,49,50]},\"selected\":{\"id\":\"1169\",\"type\":\"Selection\"},\"selection_policy\":{\"id\":\"1168\",\"type\":\"UnionRenderers\"}},\"id\":\"1027\",\"type\":\"ColumnDataSource\"},{\"attributes\":{\"overlay\":{\"id\":\"2906\",\"type\":\"BoxAnnotation\"}},\"id\":\"2883\",\"type\":\"BoxZoomTool\"},{\"attributes\":{\"callback\":null,\"end\":40},\"id\":\"2814\",\"type\":\"Range1d\"},{\"attributes\":{},\"id\":\"2885\",\"type\":\"ResetTool\"},{\"attributes\":{},\"id\":\"2881\",\"type\":\"PanTool\"},{\"attributes\":{},\"id\":\"2884\",\"type\":\"SaveTool\"},{\"attributes\":{\"callback\":null,\"end\":1.5},\"id\":\"2783\",\"type\":\"Range1d\"},{\"attributes\":{},\"id\":\"2882\",\"type\":\"WheelZoomTool\"},{\"attributes\":{\"below\":[{\"id\":\"2791\",\"type\":\"LinearAxis\"}],\"center\":[{\"id\":\"2795\",\"type\":\"Grid\"},{\"id\":\"2800\",\"type\":\"Grid\"},{\"id\":\"2809\",\"type\":\"LabelSet\"}],\"left\":[{\"id\":\"2796\",\"type\":\"LinearAxis\"}],\"renderers\":[{\"id\":\"2807\",\"type\":\"GlyphRenderer\"}],\"title\":{\"id\":\"2781\",\"type\":\"Title\"},\"toolbar\":{\"id\":\"2802\",\"type\":\"Toolbar\"},\"toolbar_location\":null,\"x_range\":{\"id\":\"2783\",\"type\":\"Range1d\"},\"x_scale\":{\"id\":\"2787\",\"type\":\"LinearScale\"},\"y_range\":{\"id\":\"2785\",\"type\":\"Range1d\"},\"y_scale\":{\"id\":\"2789\",\"type\":\"LinearScale\"}},\"id\":\"2780\",\"subtype\":\"Figure\",\"type\":\"Plot\"},{\"attributes\":{},\"id\":\"2886\",\"type\":\"HelpTool\"},{\"attributes\":{\"end_angle\":{\"expr\":{\"id\":\"2895\",\"type\":\"CumSum\"},\"units\":\"rad\"},\"fill_alpha\":{\"value\":0.1},\"fill_color\":{\"value\":\"#1f77b4\"},\"line_alpha\":{\"value\":0.1},\"line_color\":{\"value\":\"#1f77b4\"},\"radius\":{\"units\":\"data\",\"value\":0.2},\"start_angle\":{\"expr\":{\"id\":\"2894\",\"type\":\"CumSum\"},\"units\":\"rad\"},\"x\":{\"value\":0},\"y\":{\"value\":1}},\"id\":\"2898\",\"type\":\"Wedge\"},{\"attributes\":{\"end_angle\":{\"expr\":{\"id\":\"2895\",\"type\":\"CumSum\"},\"units\":\"rad\"},\"fill_color\":{\"field\":\"colors\"},\"line_color\":{\"value\":\"white\"},\"radius\":{\"units\":\"data\",\"value\":0.2},\"start_angle\":{\"expr\":{\"id\":\"2894\",\"type\":\"CumSum\"},\"units\":\"rad\"},\"x\":{\"value\":0},\"y\":{\"value\":1}},\"id\":\"2897\",\"type\":\"Wedge\"}],\"root_ids\":[\"2910\"]},\"title\":\"Bokeh Application\",\"version\":\"1.4.0\"}};\n",
       "  var render_items = [{\"docid\":\"45add948-0e21-4b03-9593-83557db53139\",\"roots\":{\"2910\":\"7093ce77-1e47-44dc-965a-a48ba8da4978\"}}];\n",
       "  root.Bokeh.embed.embed_items_notebook(docs_json, render_items);\n",
       "\n",
       "  }\n",
       "  if (root.Bokeh !== undefined) {\n",
       "    embed_document(root);\n",
       "  } else {\n",
       "    var attempts = 0;\n",
       "    var timer = setInterval(function(root) {\n",
       "      if (root.Bokeh !== undefined) {\n",
       "        clearInterval(timer);\n",
       "        embed_document(root);\n",
       "      } else {\n",
       "        attempts++;\n",
       "        if (attempts > 100) {\n",
       "          clearInterval(timer);\n",
       "          console.log(\"Bokeh: ERROR: Unable to run BokehJS code because BokehJS library is missing\");\n",
       "        }\n",
       "      }\n",
       "    }, 10, root)\n",
       "  }\n",
       "})(window);"
      ],
      "application/vnd.bokehjs_exec.v0+json": ""
     },
     "metadata": {
      "application/vnd.bokehjs_exec.v0+json": {
       "id": "2910"
      }
     },
     "output_type": "display_data"
    }
   ],
   "source": [
    "hm = figure(title=\" \", y_range=(10, 0), x_range=(0, 1.5), plot_width=600, plot_height=600, tools=\"ypan\", toolbar_location=None)\n",
    "hm.xaxis.visible = False\n",
    "# hm.yaxis.visible = False\n",
    "hm.xgrid.visible = False\n",
    "# hm.rect('x', 'y', source= r_source,  \n",
    "#         fill_color={\"field\":'color', \"transform\":mapper}, \n",
    "#         line_color=\"white\", width='scores', height=1)\n",
    "\n",
    "hm.hbar(source= r_source,  \n",
    "        fill_color={\"field\":'color', \"transform\":mapper}, \n",
    "        line_color=\"white\", y='y', left=0, right='scores', height=1)\n",
    "\n",
    "# y=[1, 2, 3], height=0.5, left=0,\n",
    "#        right=[1.2, 2.5, 3.7]source= r_source, color=\"navy\")\n",
    "\n",
    "labels = LabelSet(x='label_x', y='label_y', text='names', text_color='black',\n",
    "         source=r_source)\n",
    "\n",
    "hm.add_layout(labels)\n",
    "\n",
    "select = figure(title=\"Group advantage\",\n",
    "                plot_height=200, plot_width=600, x_range=(0, 40), toolbar_location=None, background_fill_color=\"#efefef\")\n",
    "# x_axis_type=\"datetime\", y_axis_type=None,\n",
    "\n",
    "range_tool = RangeTool(x_range=hm.y_range)\n",
    "range_tool.overlay.fill_color = \"grey\"\n",
    "range_tool.overlay.fill_alpha = 0.3\n",
    "\n",
    "select.varea(x='y', y1=0, y2='e1', source=r_source, alpha=0.5, color=green_group )\n",
    "select.varea(x='y', y1=0, y2='e0', source=r_source, alpha=0.5, color=pink_group)\n",
    "select.ygrid.grid_line_color = None\n",
    "select.add_tools(range_tool)\n",
    "select.toolbar.active_multi = range_tool\n",
    "\n",
    "pie = figure(plot_height=200, plot_width=400, title=\"Groups Distribution\", toolbar_location=None, x_range=(-0.5, 1.0))\n",
    "pie.wedge(x=0, y=1, radius=0.2, \n",
    "        start_angle=cumsum('angles', include_zero=True), end_angle=cumsum('angles'),\n",
    "        line_color=\"white\", fill_color='colors', legend_field='names', source=group_sizes)\n",
    "\n",
    "pie.axis.axis_label=None\n",
    "pie.axis.visible=False\n",
    "pie.grid.grid_line_color = None\n",
    "\n",
    "output_file(\"range_error_viewer.html\", title=\"Rank Fairness Range View\")\n",
    "show(row(hm, column(pie, select)))\n",
    "# make a grid\n",
    "# grid = gridplot([[hm, None, pie], [None, None, select]])\n",
    "\n",
    "# show the results\n",
    "# show(grid)\n"
   ]
  },
  {
   "cell_type": "code",
   "execution_count": null,
   "metadata": {
    "collapsed": true
   },
   "outputs": [],
   "source": []
  }
 ],
 "metadata": {
  "kernelspec": {
   "display_name": "Python 3",
   "language": "python",
   "name": "python3"
  },
  "language_info": {
   "codemirror_mode": {
    "name": "ipython",
    "version": 3
   },
   "file_extension": ".py",
   "mimetype": "text/x-python",
   "name": "python",
   "nbconvert_exporter": "python",
   "pygments_lexer": "ipython3",
   "version": "3.6.3"
  }
 },
 "nbformat": 4,
 "nbformat_minor": 2
}
