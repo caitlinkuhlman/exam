{
 "cells": [
  {
   "cell_type": "code",
   "execution_count": 1,
   "metadata": {
    "collapsed": true
   },
   "outputs": [],
   "source": [
    "import matplotlib.pyplot as plt\n",
    "%matplotlib inline\n",
    "import numpy as np\n",
    "from itertools import combinations, permutations\n",
    "from time import time\n",
    "import pandas as pd\n",
    "from numpy.random import random\n",
    "# from orig_agg_util import *\n",
    "#np.random.seed(890)\n",
    "import warnings\n",
    "warnings.filterwarnings('ignore')\n",
    "from scipy.misc import comb\n",
    "from scipy import stats\n",
    "from scipy.spatial import distance\n",
    "from agg_util import *\n",
    "from fare.metrics import *\n",
    "import seaborn as sns\n",
    "from ir_metrics import *\n",
    "import fairsearchcore as fsc\n",
    "from yang_metrics import *"
   ]
  },
  {
   "cell_type": "code",
   "execution_count": 2,
   "metadata": {
    "collapsed": true
   },
   "outputs": [],
   "source": [
    "        #compare groups using statistical tests\n",
    "    #     earthmover = stats.wasserstein_distance([groups[x-1] for x in y_pred], groups)[0]\n",
    "    #     print(\"earthmover\",earthmover) \n",
    "    \n",
    "            #     kl = stats.entropy([groups[x-1] for x in y_pred], groups)\n",
    "#     print(\"kl\",kl)\n",
    "#         hamming = distance.hamming(y, y_pred)\n",
    "#     hamming = distance.hamming(groups, r_groups)[0]\n",
    "#         m.append(hamming)\n",
    "\n",
    "    #     cosine = distance.cosine(y, y_pred)\n",
    "    #     cosine = distance.cosine(groups, r_groups)[0]\n",
    "    #     m.append(cosine)\n",
    "    #     jaccard = distance.jaccard(y, y_pred)\n",
    "    # #     jaccard = distance.jaccard(groups, r_groups)[0]\n",
    "    #     m.append(jaccard)\n",
    "    \n",
    "#     cosine ~= euclidean\n",
    "# hamming~=jacard"
   ]
  },
  {
   "cell_type": "code",
   "execution_count": 3,
   "metadata": {
    "collapsed": true
   },
   "outputs": [],
   "source": [
    "def plot_heatmap(df):\n",
    "    corr = df.corr()\n",
    "    ax = sns.heatmap(corr, vmin=-1, vmax=1, center=0,cmap=sns.diverging_palette(20, 220, n=200),square=True)\n",
    "    ax.set_xticklabels(ax.get_xticklabels(),rotation=45,horizontalalignment='right')\n",
    "    plt.show()"
   ]
  },
  {
   "cell_type": "code",
   "execution_count": 4,
   "metadata": {
    "collapsed": true
   },
   "outputs": [],
   "source": [
    "# p = 0.5 -> random, fair\n",
    "# p large -> unfair favors g1\n",
    "\n",
    "#for Yang methods\n",
    "def gen_groups(n, p, ratio):\n",
    "    len1 = int(n*ratio)\n",
    "    len0 = n - len1\n",
    "    groups = []\n",
    "    while len1 > 0 and len0 >0:\n",
    "        if random() < p: \n",
    "            groups.append(1)\n",
    "            len1 -= 1\n",
    "        else:\n",
    "            groups.append(0)\n",
    "            len0 -= 1\n",
    "    while len1 > 0:\n",
    "        groups.append(1)\n",
    "        len1 -= 1\n",
    "    while len0 >0:\n",
    "        groups.append(0)\n",
    "        len0 -= 1\n",
    "    return groups"
   ]
  },
  {
   "cell_type": "code",
   "execution_count": 5,
   "metadata": {
    "collapsed": true
   },
   "outputs": [],
   "source": [
    "# p = 0.5 -> random, fair\n",
    "# p large -> unfairly favors g1\n",
    "# minority group is 0\n",
    "def gen_minority_group_idx(n, p, ratio):\n",
    "    len1 = int(n*ratio)\n",
    "    len0 = n - len1\n",
    "    idxs = []\n",
    "    i=0\n",
    "    while len1 > 0 and len0 >0:\n",
    "        if random() < p: \n",
    "            len1 -= 1\n",
    "        else:\n",
    "            idxs.append(i)\n",
    "            len0 -= 1\n",
    "        i += 1\n",
    "    while len1 > 0:\n",
    "        len1 -= 1\n",
    "        i += 1\n",
    "    while len0 >0:\n",
    "        idxs.append(i)\n",
    "        len0 -= 1\n",
    "        i+=1\n",
    "    return idxs"
   ]
  },
  {
   "cell_type": "code",
   "execution_count": 6,
   "metadata": {
    "collapsed": true
   },
   "outputs": [],
   "source": [
    "# p = 0.5 -> random, fair\n",
    "# p large -> unfair favors g1\n",
    "def gen_groups_n(n, p, ratio):\n",
    "    len1 = int(n*ratio)\n",
    "    len0 = n - len1\n",
    "    groups = []\n",
    "    while len1 > 0 and len0 >0:\n",
    "        if random() < p: \n",
    "            groups.append(1)\n",
    "            len1 -= 1\n",
    "        else:\n",
    "            groups.append(0)\n",
    "            len0 -= 1\n",
    "    while len1 > 0:\n",
    "        groups.append(1)\n",
    "        len1 -= 1\n",
    "    while len0 >0:\n",
    "        groups.append(0)\n",
    "        len0 -= 1\n",
    "    return groups, len0"
   ]
  },
  {
   "cell_type": "code",
   "execution_count": 7,
   "metadata": {
    "collapsed": true
   },
   "outputs": [],
   "source": [
    "def get_metrics(ranks):\n",
    "\n",
    "    y = np.array(range(len(ranks[0])))\n",
    "    # m_names = [\"parity\",\"equality\",\"calibration\",\"pearson\",\"spearman\",\"kendall\",\"kl\",\"hamming\",\"cosine\",\"euclidean\",\"jaccard\"]\n",
    "    m_names = [\"parity\",\"equality\",\"calibration\",\"kendall\",\"pearson\",\"spearman\",\"kl\",\"euclidean\",\"ndcg_10\",\"ndcg_50\",\"ndcg_100\"]\n",
    "    ms =[]\n",
    "    for y_pred in ranks:\n",
    "        for p in [0.5,0.7,0.9]:\n",
    "#             different size groups\n",
    "            for ratio in [0.5, 0.7, 0.9]:\n",
    "                groups = gen_groups(rank_len, p, ratio)\n",
    "                m = []\n",
    "                r_groups = [groups[x-1] for x in y_pred]\n",
    "\n",
    "                # FARE metrics\n",
    "                e0,e1 = rank_parity(y_pred,r_groups)\n",
    "                parity = abs(e0-e1)\n",
    "                m.append(parity)\n",
    "\n",
    "                e0,e1 = rank_equality(y, y_pred, groups)\n",
    "                equality = abs(e0-e1)\n",
    "                m.append(equality)\n",
    "\n",
    "                e0,e1 = rank_calibration(y, y_pred, groups)\n",
    "                calibration = abs(e0-e1)\n",
    "                m.append(calibration)\n",
    "\n",
    "                kendall = stats.kendalltau(y, y_pred)[0]\n",
    "                m.append(kendall)\n",
    "\n",
    "                # Correlation coefficients\n",
    "            #     pearson = stats.pearsonr(y, y_pred)[0]\n",
    "                pearson = stats.pearsonr(groups, r_groups)[0]\n",
    "                m.append(pearson)\n",
    "\n",
    "                spearman = stats.spearmanr(y, y_pred)[0]\n",
    "                (groups, r_groups)[0]\n",
    "                m.append(spearman) \n",
    "\n",
    "                kl = stats.entropy(y, y_pred)\n",
    "                (groups, r_groups)[0]\n",
    "                m.append(kl)\n",
    "\n",
    "                euclidean = distance.euclidean(y, y_pred)\n",
    "            #     euclidean = distance.euclidean(groups, r_groups)[0]\n",
    "                m.append(euclidean)\n",
    "\n",
    "#   IR metrics\n",
    "                ndcg_10 = ndcg_at_k(y_pred, 10)\n",
    "                m.append(ndcg_10)\n",
    "        \n",
    "                ndcg_50 = ndcg_at_k(y_pred, 50)\n",
    "                m.append(ndcg_50)\n",
    "                \n",
    "                ndcg_100 = ndcg_at_k(y_pred, 100)\n",
    "                m.append(ndcg_100)\n",
    "                \n",
    "                ms.append(m)\n",
    "            #     https://pypi.org/project/editdistance/0.3.1/\n",
    "    return pd.DataFrame(ms, columns = m_names) "
   ]
  },
  {
   "cell_type": "code",
   "execution_count": 8,
   "metadata": {
    "collapsed": true
   },
   "outputs": [],
   "source": [
    "# following https://github.com/fair-search/fairsearch-fair-python\n",
    "# returns binary string  0 = not fair, 1 = fair\n",
    "\n",
    "# possible that \"compute_fail_probability\" would give a fairness score? \n",
    "def get_fa_ir_metric(ranks):\n",
    "    \n",
    "    k = len(ranks[0]) # number of topK elements returned (value should be between 10 and 400)\n",
    "    alpha = 0.1 # significance level (value should be between 0.01 and 0.15)\n",
    "    m =[]\n",
    "    for ratio in [0.5, 0.7, 0.9]:\n",
    "        # create the Fair object \n",
    "        fair = fsc.Fair(k, ratio, alpha)\n",
    "        # create an mtable using alpha adjusted\n",
    "        mtable = fair.create_adjusted_mtable()\n",
    "        for p in [0.5,0.7,0.9]:\n",
    "            #  different size groups\n",
    "            groups = gen_groups(rank_len, p, ratio)\n",
    "            for y_pred in ranks:\n",
    "                r_groups = np.array([groups[x-1] for x in y_pred], dtype=bool)\n",
    "                fa_ir_rank = [fsc.models.FairScoreDoc(x-i, x-i, r_groups[i]) for i,x in enumerate(y_pred)]\n",
    "                m.append(fair.is_fair(fa_ir_rank))\n",
    "            #     https://pypi.org/project/editdistance/0.3.1/\n",
    "    return np.array(m,dtype=int) "
   ]
  },
  {
   "cell_type": "code",
   "execution_count": 9,
   "metadata": {
    "collapsed": true
   },
   "outputs": [],
   "source": [
    "# mallows data\n",
    "\n",
    "# #(20,40),(100,1000),(300,50)\n",
    "# n_ranks =100\n",
    "# rank_len = 100\n",
    "# p = 0.9\n",
    "# theta = 0.1\n",
    "# ranks = np.genfromtxt(\"data/R_n\"+str(rank_len)+\"_N\"+str(n_ranks)+\"_t\"+str(theta)+\".txt\", delimiter=',', dtype=int)"
   ]
  },
  {
   "cell_type": "code",
   "execution_count": 10,
   "metadata": {
    "collapsed": true
   },
   "outputs": [],
   "source": [
    "# get Yang + stoyanavich metrics\n",
    "# https://github.com/DataResponsibly/FairRank/blob/master/demo_measures.md\n",
    "\n",
    "# Step 1: Specify the input population with size of user and protected group\n",
    "\n",
    "# possible that \"compute_fail_probability\" would give a fairness score? \n",
    "def get_yang_metric(ranks, cut):\n",
    "    \n",
    "    # non-normalized fairness ffor now \n",
    "    max_rKL = 1\n",
    "    max_rND = 1\n",
    "    max_rRD = 1\n",
    "\n",
    "#   method uses sliding window-like approach. this sets size of window\n",
    "    cut_point = cut #int(len(ranks[0])/2) # the cut point of computation of fairness measures\n",
    "    ms =[]\n",
    "    for ratio in [0.5, 0.7, 0.9]:\n",
    "        for p in [0.5,0.7,0.9]:\n",
    "            m=[]\n",
    "            groups = gen_minority_group_idx(rank_len, p, ratio)\n",
    "            min_group = [i for i in groups]\n",
    "            pro_N = len(min_group)\n",
    "            for y_pred in ranks:\n",
    "                fair_rKL = calculateNDFairness(test_ranking,min_group,cut_point,KL_DIVERGENCE,max_rKL)\n",
    "                fair_rND = calculateNDFairness(test_ranking,min_group,cut_point,ND_DIFFERENCE,max_rND)\n",
    "                fair_rRD = calculateNDFairness(test_ranking,min_group,cut_point,RD_DIFFERENCE,max_rRD)\n",
    "                ms.append([fair_rKL,fair_rND,fair_rRD])\n",
    "    \n",
    "    return pd.DataFrame(ms, columns=[\"fair_rKL\",\"fair_rND\",\"fair_rRD\"]) "
   ]
  },
  {
   "cell_type": "code",
   "execution_count": 11,
   "metadata": {},
   "outputs": [
    {
     "data": {
      "text/plain": [
       "(100, 100)"
      ]
     },
     "execution_count": 11,
     "metadata": {},
     "output_type": "execute_result"
    }
   ],
   "source": [
    "# random rankings\n",
    "\n",
    "n_ranks =100\n",
    "rank_len = 100\n",
    "\n",
    "# make copy in format for fa_ir\n",
    "ranks = []\n",
    "for i in range(n_ranks):\n",
    "    r = np.array(range(rank_len))\n",
    "    np.random.shuffle(r)\n",
    "    ranks.append(r)\n",
    "\n",
    "np.shape(ranks)"
   ]
  },
  {
   "cell_type": "code",
   "execution_count": 12,
   "metadata": {},
   "outputs": [
    {
     "data": {
      "text/plain": [
       "(900, 11)"
      ]
     },
     "execution_count": 12,
     "metadata": {},
     "output_type": "execute_result"
    }
   ],
   "source": [
    "ms = get_metrics(ranks)\n",
    "np.shape(ms)"
   ]
  },
  {
   "cell_type": "code",
   "execution_count": 13,
   "metadata": {
    "collapsed": true
   },
   "outputs": [],
   "source": [
    "ms_fair = get_fa_ir_metric(ranks)"
   ]
  },
  {
   "cell_type": "code",
   "execution_count": 101,
   "metadata": {},
   "outputs": [
    {
     "data": {
      "text/plain": [
       "(900,)"
      ]
     },
     "execution_count": 101,
     "metadata": {},
     "output_type": "execute_result"
    }
   ],
   "source": [
    "np.shape(ms_fair)"
   ]
  },
  {
   "cell_type": "code",
   "execution_count": 102,
   "metadata": {},
   "outputs": [
    {
     "data": {
      "text/html": [
       "<div>\n",
       "<style scoped>\n",
       "    .dataframe tbody tr th:only-of-type {\n",
       "        vertical-align: middle;\n",
       "    }\n",
       "\n",
       "    .dataframe tbody tr th {\n",
       "        vertical-align: top;\n",
       "    }\n",
       "\n",
       "    .dataframe thead th {\n",
       "        text-align: right;\n",
       "    }\n",
       "</style>\n",
       "<table border=\"1\" class=\"dataframe\">\n",
       "  <thead>\n",
       "    <tr style=\"text-align: right;\">\n",
       "      <th></th>\n",
       "      <th>parity</th>\n",
       "      <th>equality</th>\n",
       "      <th>calibration</th>\n",
       "      <th>kendall</th>\n",
       "      <th>pearson</th>\n",
       "      <th>spearman</th>\n",
       "      <th>kl</th>\n",
       "      <th>euclidean</th>\n",
       "      <th>ndcg_10</th>\n",
       "      <th>ndcg_50</th>\n",
       "      <th>ndcg_100</th>\n",
       "    </tr>\n",
       "  </thead>\n",
       "  <tbody>\n",
       "    <tr>\n",
       "      <th>0</th>\n",
       "      <td>0.007200</td>\n",
       "      <td>0.004000</td>\n",
       "      <td>0.013960</td>\n",
       "      <td>0.097374</td>\n",
       "      <td>4.000000e-02</td>\n",
       "      <td>0.141422</td>\n",
       "      <td>inf</td>\n",
       "      <td>378.261814</td>\n",
       "      <td>0.340706</td>\n",
       "      <td>0.509452</td>\n",
       "      <td>0.769414</td>\n",
       "    </tr>\n",
       "    <tr>\n",
       "      <th>1</th>\n",
       "      <td>0.742857</td>\n",
       "      <td>0.313810</td>\n",
       "      <td>0.036021</td>\n",
       "      <td>0.097374</td>\n",
       "      <td>3.965082e-17</td>\n",
       "      <td>0.141422</td>\n",
       "      <td>inf</td>\n",
       "      <td>378.261814</td>\n",
       "      <td>0.340706</td>\n",
       "      <td>0.509452</td>\n",
       "      <td>0.769414</td>\n",
       "    </tr>\n",
       "    <tr>\n",
       "      <th>2</th>\n",
       "      <td>0.886667</td>\n",
       "      <td>0.497778</td>\n",
       "      <td>0.053590</td>\n",
       "      <td>0.097374</td>\n",
       "      <td>-1.111111e-01</td>\n",
       "      <td>0.141422</td>\n",
       "      <td>inf</td>\n",
       "      <td>378.261814</td>\n",
       "      <td>0.340706</td>\n",
       "      <td>0.509452</td>\n",
       "      <td>0.769414</td>\n",
       "    </tr>\n",
       "    <tr>\n",
       "      <th>3</th>\n",
       "      <td>0.508800</td>\n",
       "      <td>0.242000</td>\n",
       "      <td>0.029262</td>\n",
       "      <td>0.097374</td>\n",
       "      <td>0.000000e+00</td>\n",
       "      <td>0.141422</td>\n",
       "      <td>inf</td>\n",
       "      <td>378.261814</td>\n",
       "      <td>0.340706</td>\n",
       "      <td>0.509452</td>\n",
       "      <td>0.769414</td>\n",
       "    </tr>\n",
       "    <tr>\n",
       "      <th>4</th>\n",
       "      <td>0.006667</td>\n",
       "      <td>0.095238</td>\n",
       "      <td>0.010424</td>\n",
       "      <td>0.097374</td>\n",
       "      <td>-1.904762e-01</td>\n",
       "      <td>0.141422</td>\n",
       "      <td>inf</td>\n",
       "      <td>378.261814</td>\n",
       "      <td>0.340706</td>\n",
       "      <td>0.509452</td>\n",
       "      <td>0.769414</td>\n",
       "    </tr>\n",
       "  </tbody>\n",
       "</table>\n",
       "</div>"
      ],
      "text/plain": [
       "     parity  equality  calibration   kendall       pearson  spearman   kl  \\\n",
       "0  0.007200  0.004000     0.013960  0.097374  4.000000e-02  0.141422  inf   \n",
       "1  0.742857  0.313810     0.036021  0.097374  3.965082e-17  0.141422  inf   \n",
       "2  0.886667  0.497778     0.053590  0.097374 -1.111111e-01  0.141422  inf   \n",
       "3  0.508800  0.242000     0.029262  0.097374  0.000000e+00  0.141422  inf   \n",
       "4  0.006667  0.095238     0.010424  0.097374 -1.904762e-01  0.141422  inf   \n",
       "\n",
       "    euclidean   ndcg_10   ndcg_50  ndcg_100  \n",
       "0  378.261814  0.340706  0.509452  0.769414  \n",
       "1  378.261814  0.340706  0.509452  0.769414  \n",
       "2  378.261814  0.340706  0.509452  0.769414  \n",
       "3  378.261814  0.340706  0.509452  0.769414  \n",
       "4  378.261814  0.340706  0.509452  0.769414  "
      ]
     },
     "execution_count": 102,
     "metadata": {},
     "output_type": "execute_result"
    }
   ],
   "source": [
    "ms.head()"
   ]
  },
  {
   "cell_type": "code",
   "execution_count": 103,
   "metadata": {
    "collapsed": true
   },
   "outputs": [],
   "source": [
    "ms[\"FA_IR\"] = ms_fair"
   ]
  },
  {
   "cell_type": "code",
   "execution_count": 104,
   "metadata": {},
   "outputs": [
    {
     "data": {
      "text/plain": [
       "<matplotlib.axes._subplots.AxesSubplot at 0xe34677e240>"
      ]
     },
     "execution_count": 104,
     "metadata": {},
     "output_type": "execute_result"
    },
    {
     "data": {
      "image/png": "[encoded data removed]",
      "text/plain": [
       "<Figure size 432x288 with 1 Axes>"
      ]
     },
     "metadata": {},
     "output_type": "display_data"
    }
   ],
   "source": [
    "ms['parity'].hist()"
   ]
  },
  {
   "cell_type": "code",
   "execution_count": 122,
   "metadata": {
    "collapsed": true
   },
   "outputs": [],
   "source": [
    "ym = get_yang_metric(ranks,50)"
   ]
  },
  {
   "cell_type": "code",
   "execution_count": 123,
   "metadata": {},
   "outputs": [
    {
     "data": {
      "text/plain": [
       "fair_rKL    float64\n",
       "fair_rND    float64\n",
       "fair_rRD    float64\n",
       "dtype: object"
      ]
     },
     "execution_count": 123,
     "metadata": {},
     "output_type": "execute_result"
    }
   ],
   "source": [
    "ym.dtypes"
   ]
  },
  {
   "cell_type": "code",
   "execution_count": 124,
   "metadata": {},
   "outputs": [
    {
     "data": {
      "text/html": [
       "<div>\n",
       "<style scoped>\n",
       "    .dataframe tbody tr th:only-of-type {\n",
       "        vertical-align: middle;\n",
       "    }\n",
       "\n",
       "    .dataframe tbody tr th {\n",
       "        vertical-align: top;\n",
       "    }\n",
       "\n",
       "    .dataframe thead th {\n",
       "        text-align: right;\n",
       "    }\n",
       "</style>\n",
       "<table border=\"1\" class=\"dataframe\">\n",
       "  <thead>\n",
       "    <tr style=\"text-align: right;\">\n",
       "      <th></th>\n",
       "      <th>parity</th>\n",
       "      <th>equality</th>\n",
       "      <th>calibration</th>\n",
       "      <th>kendall</th>\n",
       "      <th>pearson</th>\n",
       "      <th>spearman</th>\n",
       "      <th>kl</th>\n",
       "      <th>euclidean</th>\n",
       "      <th>ndcg_10</th>\n",
       "      <th>ndcg_50</th>\n",
       "      <th>ndcg_100</th>\n",
       "      <th>FA_IR</th>\n",
       "      <th>fair_rKL</th>\n",
       "      <th>fair_rND</th>\n",
       "      <th>fair_rRD</th>\n",
       "    </tr>\n",
       "  </thead>\n",
       "  <tbody>\n",
       "    <tr>\n",
       "      <th>0</th>\n",
       "      <td>0.007200</td>\n",
       "      <td>0.004000</td>\n",
       "      <td>0.013960</td>\n",
       "      <td>0.097374</td>\n",
       "      <td>4.000000e-02</td>\n",
       "      <td>0.141422</td>\n",
       "      <td>inf</td>\n",
       "      <td>378.261814</td>\n",
       "      <td>0.340706</td>\n",
       "      <td>0.509452</td>\n",
       "      <td>0.769414</td>\n",
       "      <td>1</td>\n",
       "      <td>0.001836</td>\n",
       "      <td>0.010577</td>\n",
       "      <td>0.037777</td>\n",
       "    </tr>\n",
       "    <tr>\n",
       "      <th>1</th>\n",
       "      <td>0.742857</td>\n",
       "      <td>0.313810</td>\n",
       "      <td>0.036021</td>\n",
       "      <td>0.097374</td>\n",
       "      <td>3.965082e-17</td>\n",
       "      <td>0.141422</td>\n",
       "      <td>inf</td>\n",
       "      <td>378.261814</td>\n",
       "      <td>0.340706</td>\n",
       "      <td>0.509452</td>\n",
       "      <td>0.769414</td>\n",
       "      <td>1</td>\n",
       "      <td>0.001836</td>\n",
       "      <td>0.010577</td>\n",
       "      <td>0.037777</td>\n",
       "    </tr>\n",
       "    <tr>\n",
       "      <th>2</th>\n",
       "      <td>0.886667</td>\n",
       "      <td>0.497778</td>\n",
       "      <td>0.053590</td>\n",
       "      <td>0.097374</td>\n",
       "      <td>-1.111111e-01</td>\n",
       "      <td>0.141422</td>\n",
       "      <td>inf</td>\n",
       "      <td>378.261814</td>\n",
       "      <td>0.340706</td>\n",
       "      <td>0.509452</td>\n",
       "      <td>0.769414</td>\n",
       "      <td>1</td>\n",
       "      <td>0.001836</td>\n",
       "      <td>0.010577</td>\n",
       "      <td>0.037777</td>\n",
       "    </tr>\n",
       "    <tr>\n",
       "      <th>3</th>\n",
       "      <td>0.508800</td>\n",
       "      <td>0.242000</td>\n",
       "      <td>0.029262</td>\n",
       "      <td>0.097374</td>\n",
       "      <td>0.000000e+00</td>\n",
       "      <td>0.141422</td>\n",
       "      <td>inf</td>\n",
       "      <td>378.261814</td>\n",
       "      <td>0.340706</td>\n",
       "      <td>0.509452</td>\n",
       "      <td>0.769414</td>\n",
       "      <td>1</td>\n",
       "      <td>0.001836</td>\n",
       "      <td>0.010577</td>\n",
       "      <td>0.037777</td>\n",
       "    </tr>\n",
       "    <tr>\n",
       "      <th>4</th>\n",
       "      <td>0.006667</td>\n",
       "      <td>0.095238</td>\n",
       "      <td>0.010424</td>\n",
       "      <td>0.097374</td>\n",
       "      <td>-1.904762e-01</td>\n",
       "      <td>0.141422</td>\n",
       "      <td>inf</td>\n",
       "      <td>378.261814</td>\n",
       "      <td>0.340706</td>\n",
       "      <td>0.509452</td>\n",
       "      <td>0.769414</td>\n",
       "      <td>1</td>\n",
       "      <td>0.001836</td>\n",
       "      <td>0.010577</td>\n",
       "      <td>0.037777</td>\n",
       "    </tr>\n",
       "  </tbody>\n",
       "</table>\n",
       "</div>"
      ],
      "text/plain": [
       "     parity  equality  calibration   kendall       pearson  spearman   kl  \\\n",
       "0  0.007200  0.004000     0.013960  0.097374  4.000000e-02  0.141422  inf   \n",
       "1  0.742857  0.313810     0.036021  0.097374  3.965082e-17  0.141422  inf   \n",
       "2  0.886667  0.497778     0.053590  0.097374 -1.111111e-01  0.141422  inf   \n",
       "3  0.508800  0.242000     0.029262  0.097374  0.000000e+00  0.141422  inf   \n",
       "4  0.006667  0.095238     0.010424  0.097374 -1.904762e-01  0.141422  inf   \n",
       "\n",
       "    euclidean   ndcg_10   ndcg_50  ndcg_100  FA_IR  fair_rKL  fair_rND  \\\n",
       "0  378.261814  0.340706  0.509452  0.769414      1  0.001836  0.010577   \n",
       "1  378.261814  0.340706  0.509452  0.769414      1  0.001836  0.010577   \n",
       "2  378.261814  0.340706  0.509452  0.769414      1  0.001836  0.010577   \n",
       "3  378.261814  0.340706  0.509452  0.769414      1  0.001836  0.010577   \n",
       "4  378.261814  0.340706  0.509452  0.769414      1  0.001836  0.010577   \n",
       "\n",
       "   fair_rRD  \n",
       "0  0.037777  \n",
       "1  0.037777  \n",
       "2  0.037777  \n",
       "3  0.037777  \n",
       "4  0.037777  "
      ]
     },
     "execution_count": 124,
     "metadata": {},
     "output_type": "execute_result"
    }
   ],
   "source": [
    "ms_all = pd.concat([ms,ym],axis=1)\n",
    "ms_all.head()"
   ]
  },
  {
   "cell_type": "code",
   "execution_count": 107,
   "metadata": {
    "collapsed": true
   },
   "outputs": [],
   "source": [
    "f = [\"parity\",\"equality\",\"calibration\",\"kendall\", \"FA_IR\"]\n",
    "c = [\"pearson\",\"spearman\",\"kendall\",\"kl\"]"
   ]
  },
  {
   "cell_type": "code",
   "execution_count": 126,
   "metadata": {},
   "outputs": [
    {
     "data": {
      "image/png": "[encoded data removed]",
      "text/plain": [
       "<Figure size 432x288 with 2 Axes>"
      ]
     },
     "metadata": {},
     "output_type": "display_data"
    }
   ],
   "source": [
    "plot_heatmap(ms_all)"
   ]
  },
  {
   "cell_type": "code",
   "execution_count": 109,
   "metadata": {},
   "outputs": [
    {
     "data": {
      "image/png": "[encoded data removed]",
      "text/plain": [
       "<Figure size 432x288 with 2 Axes>"
      ]
     },
     "metadata": {},
     "output_type": "display_data"
    }
   ],
   "source": [
    "plot_heatmap(ms[f])"
   ]
  },
  {
   "cell_type": "code",
   "execution_count": 110,
   "metadata": {},
   "outputs": [
    {
     "data": {
      "image/png": "[encoded data removed]",
      "text/plain": [
       "<Figure size 432x288 with 2 Axes>"
      ]
     },
     "metadata": {},
     "output_type": "display_data"
    }
   ],
   "source": [
    "plot_heatmap(ms[c])"
   ]
  },
  {
   "cell_type": "code",
   "execution_count": 4,
   "metadata": {
    "collapsed": true
   },
   "outputs": [],
   "source": []
  },
  {
   "cell_type": "code",
   "execution_count": 5,
   "metadata": {
    "collapsed": true
   },
   "outputs": [],
   "source": [
    "# get Yang + stoyanavich metrics\n",
    "# https://github.com/DataResponsibly/FairRank/blob/master/demo_measures.md\n",
    "\n",
    "\n",
    "# Step 1: Specify the input population with size of user and protected group\n",
    "user_N = 100 \n",
    "pro_N = 50\n",
    "\n",
    "# # normalized fairness follow here  \n",
    "# # if this input population has been computed, then get from recorded maximum (stored in normalizer.txt)      \n",
    "# # else compute the normalizer of input population\n",
    "# max_rKL = getNormalizer(user_N,pro_N,KL_DIVERGENCE)  \n",
    "# max_rND = getNormalizer(user_N,pro_N,ND_DIFFERENCE)\n",
    "# max_rRD = getNormalizer(user_N,pro_N,RD_DIFFERENCE)\n",
    "\n",
    "# non-normalized fairness ffor now \n",
    "max_rKL = 1\n",
    "max_rND = 1\n",
    "max_rRD = 1\n",
    "test_ranking = [x for x in range(user_N)]\n",
    "pro_index = [x for x in range(pro_N)]\n",
    "\n",
    "fair_rKL = calculateNDFairness(test_ranking,pro_index,cut_point,KL_DIVERGENCE,max_rKL)\n",
    "fair_rND = calculateNDFairness(test_ranking,pro_index,cut_point,ND_DIFFERENCE,max_rND)\n",
    "fair_rRD = calculateNDFairness(test_ranking,pro_index,cut_point,RD_DIFFERENCE,max_rRD)\n",
    "\n",
    "print(\"rKL of test ranking is \", str(fair_rKL))\n",
    "print(\"rND of test ranking is \", str(fair_rND))\n",
    "print(\"rKL of test ranking is \", str(fair_rRD))"
   ]
  },
  {
   "cell_type": "code",
   "execution_count": null,
   "metadata": {
    "collapsed": true
   },
   "outputs": [],
   "source": []
  }
 ],
 "metadata": {
  "kernelspec": {
   "display_name": "Python 3",
   "language": "python",
   "name": "python3"
  },
  "language_info": {
   "codemirror_mode": {
    "name": "ipython",
    "version": 3
   },
   "file_extension": ".py",
   "mimetype": "text/x-python",
   "name": "python",
   "nbconvert_exporter": "python",
   "pygments_lexer": "ipython3",
   "version": "3.6.3"
  }
 },
 "nbformat": 4,
 "nbformat_minor": 2
}
